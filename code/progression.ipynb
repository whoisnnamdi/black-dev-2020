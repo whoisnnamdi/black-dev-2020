{
 "cells": [
  {
   "cell_type": "markdown",
   "metadata": {},
   "source": [
    "## TODOs\n",
    "- TODO: Need to drop `PurchaseWhat` for these regressions"
   ]
  },
  {
   "cell_type": "code",
   "execution_count": 32,
   "metadata": {
    "tags": []
   },
   "outputs": [
    {
     "name": "stdout",
     "output_type": "stream",
     "text": [
      "The rpy2.ipython extension is already loaded. To reload it, use:\n",
      "  %reload_ext rpy2.ipython\n",
      "The autoreload extension is already loaded. To reload it, use:\n",
      "  %reload_ext autoreload\n"
     ]
    }
   ],
   "source": [
    "import analyze\n",
    "import prep\n",
    "import pandas as pd\n",
    "import numpy as np\n",
    "import statsmodels.api as sm\n",
    "import matplotlib.pyplot as plt\n",
    "import altair as alt\n",
    "from altair_saver import save\n",
    "%load_ext rpy2.ipython\n",
    "\n",
    "%load_ext autoreload\n",
    "%autoreload 2"
   ]
  },
  {
   "cell_type": "code",
   "execution_count": 2,
   "metadata": {
    "tags": []
   },
   "outputs": [
    {
     "name": "stderr",
     "output_type": "stream",
     "text": [
      "/anaconda3/lib/python3.7/site-packages/pandas/core/indexing.py:671: SettingWithCopyWarning: \n",
      "A value is trying to be set on a copy of a slice from a DataFrame\n",
      "\n",
      "See the caveats in the documentation: https://pandas.pydata.org/pandas-docs/stable/user_guide/indexing.html#returning-a-view-versus-a-copy\n",
      "  self._setitem_with_indexer(indexer, value)\n"
     ]
    },
    {
     "name": "stdout",
     "output_type": "stream",
     "text": [
      "Removing 26 respondents with missing DevType\n",
      "6258 developers left in the sample after cleaning\n",
      "151 or 2.4% black developers in the sample with multiracial replacement\n",
      "Removing 87 respondents with missing DevType\n",
      "12415 developers left in the sample after cleaning\n",
      "288 or 2.3% black developers in the sample with multiracial replacement\n"
     ]
    }
   ],
   "source": [
    "DATA_PATH = \"../data/2020/survey_results_public.csv\"\n",
    "data_raw = pd.read_csv(DATA_PATH)\n",
    "outcome = \"DevType\"\n",
    "data_2020, keep, groups, categorical, numeric, base = prep.prep(data_raw, outcome, 2020)\n",
    "\n",
    "DATA_PATH = \"../data/2019/survey_results_public.csv\"\n",
    "data_raw = pd.read_csv(DATA_PATH)\n",
    "data_2019, keep, groups, categorical, numeric, base = prep.prep(data_raw, outcome, 2019)"
   ]
  },
  {
   "cell_type": "code",
   "execution_count": 3,
   "metadata": {},
   "outputs": [],
   "source": [
    "data = pd.concat([data_2020, data_2019], axis=0)"
   ]
  },
  {
   "cell_type": "code",
   "execution_count": 4,
   "metadata": {},
   "outputs": [],
   "source": [
    "data[\"Leader\"] = data[\"DevType\"].str.split(\";\").map(lambda x: (\"Engineering manager\" in x) | (\"Senior executive/VP\" in x))\n",
    "data = data.drop([\"DevType\"], axis=1)"
   ]
  },
  {
   "cell_type": "code",
   "execution_count": 5,
   "metadata": {},
   "outputs": [
    {
     "data": {
      "text/plain": [
       "False    0.915654\n",
       "True     0.084346\n",
       "Name: Leader, dtype: float64"
      ]
     },
     "execution_count": 5,
     "metadata": {},
     "output_type": "execute_result"
    }
   ],
   "source": [
    "data[\"Leader\"].value_counts() / len(data)"
   ]
  },
  {
   "cell_type": "code",
   "execution_count": 6,
   "metadata": {},
   "outputs": [
    {
     "name": "stdout",
     "output_type": "stream",
     "text": [
      "Design matrix complete with 159 variables/columns\n"
     ]
    }
   ],
   "source": [
    "outcome = \"Leader\"\n",
    "X, Y = prep.design_matrix(data, categorical, numeric, base, outcome)\n",
    "X = X.drop([col for col in X.columns if \"PurchaseWhat\" in col], axis=1)"
   ]
  },
  {
   "cell_type": "code",
   "execution_count": 26,
   "metadata": {},
   "outputs": [],
   "source": [
    "data[\"Ethnicity_Black_or_of_African_descent\"] = data[\"Ethnicity\"] == \"Black or of African descent\""
   ]
  },
  {
   "cell_type": "code",
   "execution_count": 27,
   "metadata": {},
   "outputs": [],
   "source": [
    "breakdown = [\"Leader\"]"
   ]
  },
  {
   "cell_type": "code",
   "execution_count": 81,
   "metadata": {},
   "outputs": [],
   "source": [
    "labels = [\"Non-Black\", \"Black\"]\n",
    "colors = [\"#fa7026\", \"#612b8a\"]"
   ]
  },
  {
   "cell_type": "code",
   "execution_count": 31,
   "metadata": {},
   "outputs": [],
   "source": [
    "representation = {}\n",
    "\n",
    "representation[\"Leader\"] = pd.DataFrame({\"labels\": labels, \n",
    "                                         \"data\": data.groupby(\"Ethnicity_Black_or_of_African_descent\").mean()[\"Leader\"].values})"
   ]
  },
  {
   "cell_type": "code",
   "execution_count": 113,
   "metadata": {},
   "outputs": [
    {
     "data": {
      "text/html": [
       "\n",
       "<div id=\"altair-viz-e76e52f16c0241f79ee63b3a8b1ca711\"></div>\n",
       "<script type=\"text/javascript\">\n",
       "  (function(spec, embedOpt){\n",
       "    let outputDiv = document.currentScript.previousElementSibling;\n",
       "    if (outputDiv.id !== \"altair-viz-e76e52f16c0241f79ee63b3a8b1ca711\") {\n",
       "      outputDiv = document.getElementById(\"altair-viz-e76e52f16c0241f79ee63b3a8b1ca711\");\n",
       "    }\n",
       "    const paths = {\n",
       "      \"vega\": \"https://cdn.jsdelivr.net/npm//vega@5?noext\",\n",
       "      \"vega-lib\": \"https://cdn.jsdelivr.net/npm//vega-lib?noext\",\n",
       "      \"vega-lite\": \"https://cdn.jsdelivr.net/npm//vega-lite@4.8.1?noext\",\n",
       "      \"vega-embed\": \"https://cdn.jsdelivr.net/npm//vega-embed@6?noext\",\n",
       "    };\n",
       "\n",
       "    function loadScript(lib) {\n",
       "      return new Promise(function(resolve, reject) {\n",
       "        var s = document.createElement('script');\n",
       "        s.src = paths[lib];\n",
       "        s.async = true;\n",
       "        s.onload = () => resolve(paths[lib]);\n",
       "        s.onerror = () => reject(`Error loading script: ${paths[lib]}`);\n",
       "        document.getElementsByTagName(\"head\")[0].appendChild(s);\n",
       "      });\n",
       "    }\n",
       "\n",
       "    function showError(err) {\n",
       "      outputDiv.innerHTML = `<div class=\"error\" style=\"color:red;\">${err}</div>`;\n",
       "      throw err;\n",
       "    }\n",
       "\n",
       "    function displayChart(vegaEmbed) {\n",
       "      vegaEmbed(outputDiv, spec, embedOpt)\n",
       "        .catch(err => showError(`Javascript Error: ${err.message}<br>This usually means there's a typo in your chart specification. See the javascript console for the full traceback.`));\n",
       "    }\n",
       "\n",
       "    if(typeof define === \"function\" && define.amd) {\n",
       "      requirejs.config({paths});\n",
       "      require([\"vega-embed\"], displayChart, err => showError(`Error loading script: ${err.message}`));\n",
       "    } else if (typeof vegaEmbed === \"function\") {\n",
       "      displayChart(vegaEmbed);\n",
       "    } else {\n",
       "      loadScript(\"vega\")\n",
       "        .then(() => loadScript(\"vega-lite\"))\n",
       "        .then(() => loadScript(\"vega-embed\"))\n",
       "        .catch(showError)\n",
       "        .then(() => displayChart(vegaEmbed));\n",
       "    }\n",
       "  })({\"config\": {\"view\": {\"continuousWidth\": 400, \"continuousHeight\": 300, \"strokeWidth\": 0}, \"axis\": {\"domain\": false}, \"title\": {\"anchor\": \"start\", \"fontSize\": 20, \"offset\": 5}}, \"layer\": [{\"mark\": {\"type\": \"bar\", \"clip\": true, \"color\": \"#612b8a\", \"cornerRadiusBottomRight\": 18, \"cornerRadiusTopRight\": 18, \"size\": 180}, \"encoding\": {\"color\": {\"type\": \"nominal\", \"field\": \"labels\", \"legend\": null, \"scale\": {\"domain\": [\"Non-Black\", \"Black\"], \"range\": [\"#fa7026\", \"#612b8a\"]}}, \"x\": {\"type\": \"quantitative\", \"axis\": {\"format\": \".1%\", \"labelFlush\": false, \"labelFontSize\": 15, \"tickCount\": 5, \"tickSize\": 0, \"title\": null}, \"field\": \"data\"}, \"y\": {\"type\": \"nominal\", \"axis\": {\"labelFontSize\": 15, \"title\": null}, \"field\": \"labels\", \"sort\": \"-x\"}}}, {\"mark\": {\"type\": \"text\", \"align\": \"left\", \"baseline\": \"middle\", \"dx\": 10, \"dy\": 0, \"fontSize\": 15}, \"encoding\": {\"text\": {\"type\": \"quantitative\", \"field\": \"data\", \"format\": \".1%\"}, \"x\": {\"type\": \"quantitative\", \"field\": \"data\"}, \"y\": {\"type\": \"nominal\", \"field\": \"labels\", \"sort\": \"-x\"}}}], \"data\": {\"name\": \"data-2a1b0756b9e32d7ede4ad2eef2af0460\"}, \"height\": 500, \"title\": {\"text\": \"Engineering Managers and Executives By Race\", \"subtitle\": \"% of Software Developers\", \"subtitleColor\": \"gray\"}, \"width\": 600, \"$schema\": \"https://vega.github.io/schema/vega-lite/v4.8.1.json\", \"datasets\": {\"data-2a1b0756b9e32d7ede4ad2eef2af0460\": [{\"labels\": \"Non-Black\", \"data\": 0.08473181967752551}, {\"labels\": \"Black\", \"data\": 0.0683371298405467}]}}, {\"mode\": \"vega-lite\"});\n",
       "</script>"
      ],
      "text/plain": [
       "alt.LayerChart(...)"
      ]
     },
     "execution_count": 113,
     "metadata": {},
     "output_type": "execute_result"
    }
   ],
   "source": [
    "color_scale = alt.Scale(\n",
    "    domain=labels,\n",
    "    range=colors\n",
    ")\n",
    "\n",
    "points = alt.Chart().mark_bar(size=180, cornerRadiusBottomRight=18, cornerRadiusTopRight=18, clip=True, color=\"#612b8a\").encode(\n",
    "    x=alt.X(\"data\", \n",
    "            axis=alt.Axis(format=\".1%\", title=None, tickCount=5, tickSize=0, labelFlush=False, labelFontSize=15),\n",
    "    ),\n",
    "    y=alt.Y(\"labels\", \n",
    "            axis=alt.Axis(title=None, labelFontSize=15), sort=\"-x\"\n",
    "           ),\n",
    "    color=alt.Color(\"labels\", \n",
    "                    scale=color_scale,\n",
    "                    legend=None)\n",
    ")\n",
    "\n",
    "text = alt.Chart().mark_text(\n",
    "    align='left',\n",
    "    baseline='middle',\n",
    "    dx=10,\n",
    "    dy=0,\n",
    "    fontSize=15\n",
    ").encode(\n",
    "    text=alt.Text(\"data\", format=\".1%\"),\n",
    "    x=\"data\",\n",
    "    y=alt.Y(\"labels\", sort=\"-x\"),\n",
    ")\n",
    "\n",
    "chart = alt.layer(points, text, data=representation[\"Leader\"]).properties(\n",
    "    width=600,\n",
    "    height=500,\n",
    "    title={\n",
    "        \"text\": \"Engineering Managers and Executives By Race\", \n",
    "        \"subtitle\": \"% of Software Developers\",\n",
    "        \"subtitleColor\": \"gray\"\n",
    "    }\n",
    ").configure_view(\n",
    "    strokeWidth=0\n",
    ").configure_title(\n",
    "    anchor='start',\n",
    "    offset=5,\n",
    "    fontSize=20\n",
    ").configure_axis(\n",
    "    domain=False\n",
    ")\n",
    "\n",
    "chart.save(\"progression_leaders.png\", method=\"selenium\", webdriver=\"chrome\", scale_factor=3.0)\n",
    "\n",
    "chart"
   ]
  },
  {
   "cell_type": "code",
   "execution_count": 7,
   "metadata": {},
   "outputs": [
    {
     "data": {
      "text/html": [
       "<div>\n",
       "<style scoped>\n",
       "    .dataframe tbody tr th:only-of-type {\n",
       "        vertical-align: middle;\n",
       "    }\n",
       "\n",
       "    .dataframe tbody tr th {\n",
       "        vertical-align: top;\n",
       "    }\n",
       "\n",
       "    .dataframe thead th {\n",
       "        text-align: right;\n",
       "    }\n",
       "</style>\n",
       "<table border=\"1\" class=\"dataframe\">\n",
       "  <thead>\n",
       "    <tr style=\"text-align: right;\">\n",
       "      <th></th>\n",
       "      <th>coef_ds</th>\n",
       "      <th>se_ds</th>\n",
       "      <th>t_ds</th>\n",
       "      <th>p_ds</th>\n",
       "      <th>lower_ds</th>\n",
       "      <th>upper_ds</th>\n",
       "      <th>coef_raw</th>\n",
       "      <th>se_raw</th>\n",
       "      <th>t_raw</th>\n",
       "      <th>p_raw</th>\n",
       "      <th>lower_raw</th>\n",
       "      <th>upper_raw</th>\n",
       "    </tr>\n",
       "  </thead>\n",
       "  <tbody>\n",
       "    <tr>\n",
       "      <th>Ethnicity_Black_or_of_African_descent</th>\n",
       "      <td>-0.001633</td>\n",
       "      <td>0.01291</td>\n",
       "      <td>-0.126463</td>\n",
       "      <td>0.899365</td>\n",
       "      <td>-0.026936</td>\n",
       "      <td>0.023671</td>\n",
       "      <td>-0.016404</td>\n",
       "      <td>0.013423</td>\n",
       "      <td>-1.222067</td>\n",
       "      <td>0.221698</td>\n",
       "      <td>-0.042714</td>\n",
       "      <td>0.009907</td>\n",
       "    </tr>\n",
       "  </tbody>\n",
       "</table>\n",
       "</div>"
      ],
      "text/plain": [
       "                                        coef_ds    se_ds      t_ds      p_ds  \\\n",
       "Ethnicity_Black_or_of_African_descent -0.001633  0.01291 -0.126463  0.899365   \n",
       "\n",
       "                                       lower_ds  upper_ds  coef_raw    se_raw  \\\n",
       "Ethnicity_Black_or_of_African_descent -0.026936  0.023671 -0.016404  0.013423   \n",
       "\n",
       "                                          t_raw     p_raw  lower_raw  \\\n",
       "Ethnicity_Black_or_of_African_descent -1.222067  0.221698  -0.042714   \n",
       "\n",
       "                                       upper_raw  \n",
       "Ethnicity_Black_or_of_African_descent   0.009907  "
      ]
     },
     "execution_count": 7,
     "metadata": {},
     "output_type": "execute_result"
    }
   ],
   "source": [
    "D = \"Ethnicity\"\n",
    "results = analyze.analyze(Y, X, D)\n",
    "results"
   ]
  },
  {
   "cell_type": "code",
   "execution_count": 8,
   "metadata": {},
   "outputs": [
    {
     "name": "stdout",
     "output_type": "stream",
     "text": [
      "Optimization terminated successfully.\n",
      "         Current function value: 0.289215\n",
      "         Iterations 7\n"
     ]
    },
    {
     "data": {
      "text/html": [
       "<div>\n",
       "<style scoped>\n",
       "    .dataframe tbody tr th:only-of-type {\n",
       "        vertical-align: middle;\n",
       "    }\n",
       "\n",
       "    .dataframe tbody tr th {\n",
       "        vertical-align: top;\n",
       "    }\n",
       "\n",
       "    .dataframe thead th {\n",
       "        text-align: right;\n",
       "    }\n",
       "</style>\n",
       "<table border=\"1\" class=\"dataframe\">\n",
       "  <thead>\n",
       "    <tr style=\"text-align: right;\">\n",
       "      <th></th>\n",
       "      <th>coef_ds</th>\n",
       "      <th>se_ds</th>\n",
       "      <th>t_ds</th>\n",
       "      <th>p_ds</th>\n",
       "      <th>lower_ds</th>\n",
       "      <th>upper_ds</th>\n",
       "      <th>coef_raw</th>\n",
       "      <th>se_raw</th>\n",
       "      <th>t_raw</th>\n",
       "      <th>p_raw</th>\n",
       "      <th>lower_raw</th>\n",
       "      <th>upper_raw</th>\n",
       "    </tr>\n",
       "  </thead>\n",
       "  <tbody>\n",
       "    <tr>\n",
       "      <th>Ethnicity_Black_or_of_African_descent</th>\n",
       "      <td>-0.038762</td>\n",
       "      <td>0.197865</td>\n",
       "      <td>-0.1959</td>\n",
       "      <td>0.844688</td>\n",
       "      <td>-0.426595</td>\n",
       "      <td>0.349071</td>\n",
       "      <td>-0.232911</td>\n",
       "      <td>0.191013</td>\n",
       "      <td>-1.21935</td>\n",
       "      <td>0.222711</td>\n",
       "      <td>-0.607289</td>\n",
       "      <td>0.141467</td>\n",
       "    </tr>\n",
       "  </tbody>\n",
       "</table>\n",
       "</div>"
      ],
      "text/plain": [
       "                                        coef_ds     se_ds    t_ds      p_ds  \\\n",
       "Ethnicity_Black_or_of_African_descent -0.038762  0.197865 -0.1959  0.844688   \n",
       "\n",
       "                                       lower_ds  upper_ds  coef_raw    se_raw  \\\n",
       "Ethnicity_Black_or_of_African_descent -0.426595  0.349071 -0.232911  0.191013   \n",
       "\n",
       "                                         t_raw     p_raw  lower_raw  upper_raw  \n",
       "Ethnicity_Black_or_of_African_descent -1.21935  0.222711  -0.607289   0.141467  "
      ]
     },
     "execution_count": 8,
     "metadata": {},
     "output_type": "execute_result"
    }
   ],
   "source": [
    "D = \"Ethnicity\"\n",
    "results = analyze.analyze(Y, X, D, logit=True)\n",
    "results"
   ]
  },
  {
   "cell_type": "code",
   "execution_count": 13,
   "metadata": {},
   "outputs": [
    {
     "name": "stdout",
     "output_type": "stream",
     "text": [
      "Optimization terminated successfully.\n",
      "         Current function value: 0.231134\n",
      "         Iterations 9\n"
     ]
    }
   ],
   "source": [
    "model = sm.Logit(endog=Y, exog=X.drop([col for col in X.columns if D in col], axis=1).assign(const=1)).fit()\n",
    "predictions = pd.Series(model.predict())"
   ]
  },
  {
   "cell_type": "code",
   "execution_count": 122,
   "metadata": {},
   "outputs": [
    {
     "data": {
      "image/png": "[encoded data removed]",
      "text/plain": [
       "<Figure size 432x288 with 1 Axes>"
      ]
     },
     "metadata": {
      "needs_background": "light"
     },
     "output_type": "display_data"
    }
   ],
   "source": [
    "pd.concat([X.reset_index(drop=True), predictions.rename(\"preds\")], axis=1).groupby(\"Ethnicity_Black_or_of_African_descent\")[\"preds\"].plot.kde()\n",
    "plt.legend()\n",
    "plt.xlim(0,0.6)\n",
    "plt.show()"
   ]
  },
  {
   "cell_type": "code",
   "execution_count": 127,
   "metadata": {},
   "outputs": [],
   "source": [
    "testing = pd.concat([X.reset_index(drop=True), predictions.rename(\"preds\")], axis=1).filter([\"Ethnicity_Black_or_of_African_descent\", \"preds\"])\n",
    "testing[\"preds\"] = np.log(testing[\"preds\"])"
   ]
  },
  {
   "cell_type": "code",
   "execution_count": 128,
   "metadata": {},
   "outputs": [
    {
     "data": {
      "text/plain": [
       "Ethnicity_Black_or_of_African_descent\n",
       "0.0    AxesSubplot(0.125,0.125;0.775x0.755)\n",
       "1.0    AxesSubplot(0.125,0.125;0.775x0.755)\n",
       "Name: preds, dtype: object"
      ]
     },
     "execution_count": 128,
     "metadata": {},
     "output_type": "execute_result"
    },
    {
     "data": {
      "image/png": "[encoded data removed]",
      "text/plain": [
       "<Figure size 432x288 with 1 Axes>"
      ]
     },
     "metadata": {
      "needs_background": "light"
     },
     "output_type": "display_data"
    }
   ],
   "source": [
    "testing.groupby(\"Ethnicity_Black_or_of_African_descent\")[\"preds\"].plot.kde()"
   ]
  },
  {
   "cell_type": "code",
   "execution_count": 14,
   "metadata": {},
   "outputs": [],
   "source": [
    "X_q = {}\n",
    "Y_q = {}\n",
    "quantiles = 5\n",
    "\n",
    "for q in range(1, quantiles+1):\n",
    "    X_q[q] = X.reset_index(drop=True).loc[(predictions <= predictions.quantile(q/quantiles)) & (predictions > predictions.quantile(q/quantiles-(1/quantiles)))]\n",
    "    Y_q[q] = Y.reset_index(drop=True).loc[(predictions <= predictions.quantile(q/quantiles)) & (predictions > predictions.quantile(q/quantiles-(1/quantiles)))]"
   ]
  },
  {
   "cell_type": "code",
   "execution_count": 82,
   "metadata": {},
   "outputs": [],
   "source": [
    "results_q_plot = (pd.concat([pd.concat([(pd.concat([Y_q[q], X_q[q]], axis=1)\n",
    "                         .groupby([\"Ethnicity_Black_or_of_African_descent\"])\n",
    "                         .mean()[\"Leader\"]), \n",
    "                       pd.Series([q]* 2, name=\"quantile\"),\n",
    "                       pd.Series(labels, name=\"labels\")], \n",
    "                     axis=1) for q in range(1, quantiles+1)])\n",
    "                  .reset_index(drop=True)\n",
    "                  .rename(columns={\"Leader\": \"data\"}))"
   ]
  },
  {
   "cell_type": "code",
   "execution_count": 84,
   "metadata": {},
   "outputs": [
    {
     "data": {
      "text/html": [
       "<div>\n",
       "<style scoped>\n",
       "    .dataframe tbody tr th:only-of-type {\n",
       "        vertical-align: middle;\n",
       "    }\n",
       "\n",
       "    .dataframe tbody tr th {\n",
       "        vertical-align: top;\n",
       "    }\n",
       "\n",
       "    .dataframe thead th {\n",
       "        text-align: right;\n",
       "    }\n",
       "</style>\n",
       "<table border=\"1\" class=\"dataframe\">\n",
       "  <thead>\n",
       "    <tr style=\"text-align: right;\">\n",
       "      <th></th>\n",
       "      <th>data</th>\n",
       "      <th>quantile</th>\n",
       "      <th>labels</th>\n",
       "    </tr>\n",
       "  </thead>\n",
       "  <tbody>\n",
       "    <tr>\n",
       "      <th>0</th>\n",
       "      <td>0.004971</td>\n",
       "      <td>1</td>\n",
       "      <td>Non-Black</td>\n",
       "    </tr>\n",
       "    <tr>\n",
       "      <th>1</th>\n",
       "      <td>0.000000</td>\n",
       "      <td>1</td>\n",
       "      <td>Black</td>\n",
       "    </tr>\n",
       "    <tr>\n",
       "      <th>2</th>\n",
       "      <td>0.019257</td>\n",
       "      <td>2</td>\n",
       "      <td>Non-Black</td>\n",
       "    </tr>\n",
       "    <tr>\n",
       "      <th>3</th>\n",
       "      <td>0.010101</td>\n",
       "      <td>2</td>\n",
       "      <td>Black</td>\n",
       "    </tr>\n",
       "    <tr>\n",
       "      <th>4</th>\n",
       "      <td>0.045392</td>\n",
       "      <td>3</td>\n",
       "      <td>Non-Black</td>\n",
       "    </tr>\n",
       "    <tr>\n",
       "      <th>5</th>\n",
       "      <td>0.040000</td>\n",
       "      <td>3</td>\n",
       "      <td>Black</td>\n",
       "    </tr>\n",
       "    <tr>\n",
       "      <th>6</th>\n",
       "      <td>0.097249</td>\n",
       "      <td>4</td>\n",
       "      <td>Non-Black</td>\n",
       "    </tr>\n",
       "    <tr>\n",
       "      <th>7</th>\n",
       "      <td>0.111111</td>\n",
       "      <td>4</td>\n",
       "      <td>Black</td>\n",
       "    </tr>\n",
       "    <tr>\n",
       "      <th>8</th>\n",
       "      <td>0.254699</td>\n",
       "      <td>5</td>\n",
       "      <td>Non-Black</td>\n",
       "    </tr>\n",
       "    <tr>\n",
       "      <th>9</th>\n",
       "      <td>0.281250</td>\n",
       "      <td>5</td>\n",
       "      <td>Black</td>\n",
       "    </tr>\n",
       "  </tbody>\n",
       "</table>\n",
       "</div>"
      ],
      "text/plain": [
       "       data  quantile     labels\n",
       "0  0.004971         1  Non-Black\n",
       "1  0.000000         1      Black\n",
       "2  0.019257         2  Non-Black\n",
       "3  0.010101         2      Black\n",
       "4  0.045392         3  Non-Black\n",
       "5  0.040000         3      Black\n",
       "6  0.097249         4  Non-Black\n",
       "7  0.111111         4      Black\n",
       "8  0.254699         5  Non-Black\n",
       "9  0.281250         5      Black"
      ]
     },
     "execution_count": 84,
     "metadata": {},
     "output_type": "execute_result"
    }
   ],
   "source": [
    "results_q_plot"
   ]
  },
  {
   "cell_type": "code",
   "execution_count": 129,
   "metadata": {},
   "outputs": [
    {
     "data": {
      "text/html": [
       "\n",
       "<div id=\"altair-viz-c14680bdb539458b82072f425cf55bf6\"></div>\n",
       "<script type=\"text/javascript\">\n",
       "  (function(spec, embedOpt){\n",
       "    let outputDiv = document.currentScript.previousElementSibling;\n",
       "    if (outputDiv.id !== \"altair-viz-c14680bdb539458b82072f425cf55bf6\") {\n",
       "      outputDiv = document.getElementById(\"altair-viz-c14680bdb539458b82072f425cf55bf6\");\n",
       "    }\n",
       "    const paths = {\n",
       "      \"vega\": \"https://cdn.jsdelivr.net/npm//vega@5?noext\",\n",
       "      \"vega-lib\": \"https://cdn.jsdelivr.net/npm//vega-lib?noext\",\n",
       "      \"vega-lite\": \"https://cdn.jsdelivr.net/npm//vega-lite@4.8.1?noext\",\n",
       "      \"vega-embed\": \"https://cdn.jsdelivr.net/npm//vega-embed@6?noext\",\n",
       "    };\n",
       "\n",
       "    function loadScript(lib) {\n",
       "      return new Promise(function(resolve, reject) {\n",
       "        var s = document.createElement('script');\n",
       "        s.src = paths[lib];\n",
       "        s.async = true;\n",
       "        s.onload = () => resolve(paths[lib]);\n",
       "        s.onerror = () => reject(`Error loading script: ${paths[lib]}`);\n",
       "        document.getElementsByTagName(\"head\")[0].appendChild(s);\n",
       "      });\n",
       "    }\n",
       "\n",
       "    function showError(err) {\n",
       "      outputDiv.innerHTML = `<div class=\"error\" style=\"color:red;\">${err}</div>`;\n",
       "      throw err;\n",
       "    }\n",
       "\n",
       "    function displayChart(vegaEmbed) {\n",
       "      vegaEmbed(outputDiv, spec, embedOpt)\n",
       "        .catch(err => showError(`Javascript Error: ${err.message}<br>This usually means there's a typo in your chart specification. See the javascript console for the full traceback.`));\n",
       "    }\n",
       "\n",
       "    if(typeof define === \"function\" && define.amd) {\n",
       "      requirejs.config({paths});\n",
       "      require([\"vega-embed\"], displayChart, err => showError(`Error loading script: ${err.message}`));\n",
       "    } else if (typeof vegaEmbed === \"function\") {\n",
       "      displayChart(vegaEmbed);\n",
       "    } else {\n",
       "      loadScript(\"vega\")\n",
       "        .then(() => loadScript(\"vega-lite\"))\n",
       "        .then(() => loadScript(\"vega-embed\"))\n",
       "        .catch(showError)\n",
       "        .then(() => displayChart(vegaEmbed));\n",
       "    }\n",
       "  })({\"config\": {\"view\": {\"continuousWidth\": 400, \"continuousHeight\": 300, \"strokeWidth\": 0}, \"axis\": {\"domain\": false}, \"title\": {\"anchor\": \"start\", \"fontSize\": 20, \"offset\": 5}}, \"data\": {\"name\": \"data-7f5dc1f34c1ae2b41d72d388a956b2c8\"}, \"facet\": {\"column\": {\"type\": \"quantitative\", \"field\": \"quantile\", \"header\": {\"labelFontSize\": 15, \"labelOrient\": \"bottom\"}, \"title\": null}}, \"spec\": {\"layer\": [{\"mark\": {\"type\": \"bar\", \"clip\": true, \"cornerRadiusTopLeft\": 8, \"cornerRadiusTopRight\": 8, \"size\": 35}, \"encoding\": {\"color\": {\"type\": \"nominal\", \"field\": \"labels\", \"legend\": {\"labelFontSize\": 15, \"orient\": \"bottom\", \"title\": null}, \"scale\": {\"domain\": [\"Non-Black\", \"Black\"], \"range\": [\"#fa7026\", \"#612b8a\"]}}, \"x\": {\"type\": \"nominal\", \"axis\": {\"labels\": false, \"tickSize\": 0, \"title\": null}, \"field\": \"labels\", \"sort\": [\"Non-Black\", \"Black\"]}, \"y\": {\"type\": \"quantitative\", \"axis\": {\"format\": \".1%\", \"labelFlush\": false, \"labelFontSize\": 15, \"tickCount\": 4, \"tickSize\": 0, \"title\": null}, \"field\": \"data\"}}, \"height\": 300, \"width\": 100}, {\"mark\": {\"type\": \"text\", \"align\": \"center\", \"baseline\": \"middle\", \"dx\": 0, \"dy\": -20, \"fontSize\": 15}, \"encoding\": {\"color\": {\"type\": \"nominal\", \"field\": \"labels\", \"scale\": {\"domain\": [\"Non-Black\", \"Black\"], \"range\": [\"#fa7026\", \"#612b8a\"]}}, \"text\": {\"type\": \"quantitative\", \"field\": \"data\", \"format\": \".1%\"}, \"x\": {\"type\": \"nominal\", \"field\": \"labels\", \"sort\": [\"Non-Black\", \"Black\"]}, \"y\": {\"type\": \"quantitative\", \"field\": \"data\"}}}]}, \"spacing\": 10, \"title\": {\"text\": \"Engineering Managers or Executives by Leadership Score Quintile\", \"subtitle\": \"% of Software Developers\", \"subtitleColor\": \"gray\"}, \"$schema\": \"https://vega.github.io/schema/vega-lite/v4.8.1.json\", \"datasets\": {\"data-7f5dc1f34c1ae2b41d72d388a956b2c8\": [{\"data\": 0.004971002485501243, \"quantile\": 1, \"labels\": \"Non-Black\"}, {\"data\": 0.0, \"quantile\": 1, \"labels\": \"Black\"}, {\"data\": 0.01925722145804677, \"quantile\": 2, \"labels\": \"Non-Black\"}, {\"data\": 0.010101010101010102, \"quantile\": 2, \"labels\": \"Black\"}, {\"data\": 0.0453920220082531, \"quantile\": 3, \"labels\": \"Non-Black\"}, {\"data\": 0.04, \"quantile\": 3, \"labels\": \"Black\"}, {\"data\": 0.09724870607463906, \"quantile\": 4, \"labels\": \"Non-Black\"}, {\"data\": 0.1111111111111111, \"quantile\": 4, \"labels\": \"Black\"}, {\"data\": 0.25469899210024516, \"quantile\": 5, \"labels\": \"Non-Black\"}, {\"data\": 0.28125, \"quantile\": 5, \"labels\": \"Black\"}]}}, {\"mode\": \"vega-lite\"});\n",
       "</script>"
      ],
      "text/plain": [
       "alt.FacetChart(...)"
      ]
     },
     "execution_count": 129,
     "metadata": {},
     "output_type": "execute_result"
    }
   ],
   "source": [
    "color_scale = alt.Scale(\n",
    "    domain=labels,\n",
    "    range=colors\n",
    ")\n",
    "\n",
    "points = alt.Chart().mark_bar(size=35, cornerRadiusTopLeft=8, cornerRadiusTopRight=8, clip=True).encode(\n",
    "    x=alt.X(\"labels\", \n",
    "        axis=alt.Axis(title=None, labels=False, tickSize=0), \n",
    "        sort=labels\n",
    "       ),\n",
    "    y=alt.Y(\"data\", \n",
    "            axis=alt.Axis(format=\".1%\", title=None, tickCount=4, tickSize=0, labelFlush=False, labelFontSize=15),\n",
    "    ),\n",
    "    color=alt.Color(\"labels\", \n",
    "                    scale=color_scale,\n",
    "                    legend=alt.Legend(title=None, orient=\"bottom\", labelFontSize=15))\n",
    ").properties(\n",
    "    width=100,\n",
    "    height=300\n",
    ")\n",
    "\n",
    "text = alt.Chart().mark_text(\n",
    "    align='center',\n",
    "    baseline='middle',\n",
    "    dx=0,\n",
    "    dy=-20,\n",
    "    fontSize=15\n",
    ").encode(\n",
    "    text=alt.Text(\"data\", format=\".1%\"),\n",
    "    x=alt.X(\"labels\", \n",
    "            sort=labels),\n",
    "    y=\"data\",\n",
    "    color=alt.Color(\"labels\", \n",
    "                    scale=color_scale)\n",
    ")\n",
    "\n",
    "chart = alt.layer(points, text, data=results_q_plot).facet(\n",
    "    column=alt.Column(\"quantile\", title=None, header=alt.Header(labelOrient='bottom', labelFontSize=15)),\n",
    "    title={\n",
    "        \"text\": \"Engineering Managers or Executives by Leadership Score Quintile\", \n",
    "        \"subtitle\": \"% of Software Developers\",\n",
    "        \"subtitleColor\": \"gray\",\n",
    "    },\n",
    "    spacing=10\n",
    ").configure_view(\n",
    "    strokeWidth=0\n",
    ").configure_title(\n",
    "    anchor='start',\n",
    "    offset=5,\n",
    "    fontSize=20\n",
    ").configure_axis(\n",
    "    domain=False\n",
    ")\n",
    "\n",
    "chart.save(\"progression_leaders_quintile.png\", method=\"selenium\", webdriver=\"chrome\", scale_factor=3.0)\n",
    "\n",
    "chart"
   ]
  },
  {
   "cell_type": "code",
   "execution_count": 15,
   "metadata": {
    "scrolled": true
   },
   "outputs": [
    {
     "name": "stdout",
     "output_type": "stream",
     "text": [
      "2\n",
      "Optimization terminated successfully.\n",
      "         Current function value: 0.094068\n",
      "         Iterations 9\n",
      "3\n",
      "Optimization terminated successfully.\n",
      "         Current function value: 0.184241\n",
      "         Iterations 7\n",
      "4\n",
      "Optimization terminated successfully.\n",
      "         Current function value: 0.319268\n",
      "         Iterations 6\n",
      "5\n",
      "Optimization terminated successfully.\n",
      "         Current function value: 0.567865\n",
      "         Iterations 5\n"
     ]
    }
   ],
   "source": [
    "D = \"Ethnicity\"\n",
    "start_q = 2\n",
    "results_q = []\n",
    "for q in range(start_q, quantiles+1):\n",
    "    print(q)\n",
    "    results_q.append(analyze.analyze(Y_q[q], X_q[q], D, logit=True))\n",
    "    \n",
    "results_q = pd.concat(results_q, axis=0)\n",
    "results_q.index = range(start_q, quantiles+1)"
   ]
  },
  {
   "cell_type": "code",
   "execution_count": 17,
   "metadata": {},
   "outputs": [
    {
     "data": {
      "text/html": [
       "<div>\n",
       "<style scoped>\n",
       "    .dataframe tbody tr th:only-of-type {\n",
       "        vertical-align: middle;\n",
       "    }\n",
       "\n",
       "    .dataframe tbody tr th {\n",
       "        vertical-align: top;\n",
       "    }\n",
       "\n",
       "    .dataframe thead th {\n",
       "        text-align: right;\n",
       "    }\n",
       "</style>\n",
       "<table border=\"1\" class=\"dataframe\">\n",
       "  <thead>\n",
       "    <tr style=\"text-align: right;\">\n",
       "      <th></th>\n",
       "      <th>coef_ds</th>\n",
       "      <th>se_ds</th>\n",
       "      <th>t_ds</th>\n",
       "      <th>p_ds</th>\n",
       "      <th>lower_ds</th>\n",
       "      <th>upper_ds</th>\n",
       "      <th>coef_raw</th>\n",
       "      <th>se_raw</th>\n",
       "      <th>t_raw</th>\n",
       "      <th>p_raw</th>\n",
       "      <th>lower_raw</th>\n",
       "      <th>upper_raw</th>\n",
       "    </tr>\n",
       "  </thead>\n",
       "  <tbody>\n",
       "    <tr>\n",
       "      <th>2</th>\n",
       "      <td>-0.652879</td>\n",
       "      <td>1.032939</td>\n",
       "      <td>-0.632060</td>\n",
       "      <td>0.527348</td>\n",
       "      <td>-2.678059</td>\n",
       "      <td>1.372300</td>\n",
       "      <td>-0.659297</td>\n",
       "      <td>1.012366</td>\n",
       "      <td>-0.651244</td>\n",
       "      <td>0.514889</td>\n",
       "      <td>-2.643497</td>\n",
       "      <td>1.324904</td>\n",
       "    </tr>\n",
       "    <tr>\n",
       "      <th>3</th>\n",
       "      <td>-0.124737</td>\n",
       "      <td>0.518825</td>\n",
       "      <td>-0.240422</td>\n",
       "      <td>0.810003</td>\n",
       "      <td>-1.141944</td>\n",
       "      <td>0.892471</td>\n",
       "      <td>-0.132200</td>\n",
       "      <td>0.516506</td>\n",
       "      <td>-0.255951</td>\n",
       "      <td>0.797989</td>\n",
       "      <td>-1.144533</td>\n",
       "      <td>0.880133</td>\n",
       "    </tr>\n",
       "    <tr>\n",
       "      <th>4</th>\n",
       "      <td>0.106196</td>\n",
       "      <td>0.404783</td>\n",
       "      <td>0.262353</td>\n",
       "      <td>0.793049</td>\n",
       "      <td>-0.687422</td>\n",
       "      <td>0.899814</td>\n",
       "      <td>0.139011</td>\n",
       "      <td>0.404923</td>\n",
       "      <td>0.343302</td>\n",
       "      <td>0.731371</td>\n",
       "      <td>-0.654624</td>\n",
       "      <td>0.932646</td>\n",
       "    </tr>\n",
       "    <tr>\n",
       "      <th>5</th>\n",
       "      <td>0.144263</td>\n",
       "      <td>0.283571</td>\n",
       "      <td>0.508736</td>\n",
       "      <td>0.610937</td>\n",
       "      <td>-0.411707</td>\n",
       "      <td>0.700233</td>\n",
       "      <td>0.137429</td>\n",
       "      <td>0.280628</td>\n",
       "      <td>0.489717</td>\n",
       "      <td>0.624334</td>\n",
       "      <td>-0.412593</td>\n",
       "      <td>0.687450</td>\n",
       "    </tr>\n",
       "  </tbody>\n",
       "</table>\n",
       "</div>"
      ],
      "text/plain": [
       "    coef_ds     se_ds      t_ds      p_ds  lower_ds  upper_ds  coef_raw  \\\n",
       "2 -0.652879  1.032939 -0.632060  0.527348 -2.678059  1.372300 -0.659297   \n",
       "3 -0.124737  0.518825 -0.240422  0.810003 -1.141944  0.892471 -0.132200   \n",
       "4  0.106196  0.404783  0.262353  0.793049 -0.687422  0.899814  0.139011   \n",
       "5  0.144263  0.283571  0.508736  0.610937 -0.411707  0.700233  0.137429   \n",
       "\n",
       "     se_raw     t_raw     p_raw  lower_raw  upper_raw  \n",
       "2  1.012366 -0.651244  0.514889  -2.643497   1.324904  \n",
       "3  0.516506 -0.255951  0.797989  -1.144533   0.880133  \n",
       "4  0.404923  0.343302  0.731371  -0.654624   0.932646  \n",
       "5  0.280628  0.489717  0.624334  -0.412593   0.687450  "
      ]
     },
     "execution_count": 17,
     "metadata": {},
     "output_type": "execute_result"
    }
   ],
   "source": [
    "results_q"
   ]
  },
  {
   "cell_type": "code",
   "execution_count": 18,
   "metadata": {},
   "outputs": [],
   "source": [
    "results_q_plot = pd.melt(results_q.reset_index()[[\"index\", \"coef_ds\", \"coef_raw\"]], id_vars=[\"index\"]).rename(columns={\"value\": \"data\", \"variable\": \"labels\"})"
   ]
  },
  {
   "cell_type": "code",
   "execution_count": 20,
   "metadata": {},
   "outputs": [],
   "source": [
    "results_q_plot[\"lower\"] = np.exp(pd.melt(results_q.reset_index()[[\"index\", \"lower_ds\", \"lower_raw\"]], id_vars=[\"index\"])[\"value\"])\n",
    "results_q_plot[\"upper\"] = np.exp(pd.melt(results_q.reset_index()[[\"index\", \"upper_ds\", \"upper_raw\"]], id_vars=[\"index\"])[\"value\"])\n",
    "results_q_plot[\"data\"] = np.exp(results_q_plot[\"data\"])"
   ]
  },
  {
   "cell_type": "code",
   "execution_count": 22,
   "metadata": {},
   "outputs": [],
   "source": [
    "results_q_plot.loc[results_q_plot[\"labels\"] == \"coef_ds\", \"labels\"] = \"Black (Adj.)\"\n",
    "results_q_plot.loc[results_q_plot[\"labels\"] == \"coef_raw\", \"labels\"] = \"Black (Raw)\""
   ]
  },
  {
   "cell_type": "code",
   "execution_count": 24,
   "metadata": {},
   "outputs": [],
   "source": [
    "results_q_plot = pd.concat([results_q_plot, pd.DataFrame({\"index\": range(2, quantiles+1), \"labels\": \"Non-Black\", \"data\": 1.0})])"
   ]
  },
  {
   "cell_type": "code",
   "execution_count": 25,
   "metadata": {},
   "outputs": [
    {
     "data": {
      "text/html": [
       "<div>\n",
       "<style scoped>\n",
       "    .dataframe tbody tr th:only-of-type {\n",
       "        vertical-align: middle;\n",
       "    }\n",
       "\n",
       "    .dataframe tbody tr th {\n",
       "        vertical-align: top;\n",
       "    }\n",
       "\n",
       "    .dataframe thead th {\n",
       "        text-align: right;\n",
       "    }\n",
       "</style>\n",
       "<table border=\"1\" class=\"dataframe\">\n",
       "  <thead>\n",
       "    <tr style=\"text-align: right;\">\n",
       "      <th></th>\n",
       "      <th>index</th>\n",
       "      <th>labels</th>\n",
       "      <th>data</th>\n",
       "      <th>lower</th>\n",
       "      <th>upper</th>\n",
       "    </tr>\n",
       "  </thead>\n",
       "  <tbody>\n",
       "    <tr>\n",
       "      <th>0</th>\n",
       "      <td>2</td>\n",
       "      <td>Black (Adj.)</td>\n",
       "      <td>0.520545</td>\n",
       "      <td>0.068696</td>\n",
       "      <td>3.944412</td>\n",
       "    </tr>\n",
       "    <tr>\n",
       "      <th>1</th>\n",
       "      <td>3</td>\n",
       "      <td>Black (Adj.)</td>\n",
       "      <td>0.882729</td>\n",
       "      <td>0.319198</td>\n",
       "      <td>2.441154</td>\n",
       "    </tr>\n",
       "    <tr>\n",
       "      <th>2</th>\n",
       "      <td>4</td>\n",
       "      <td>Black (Adj.)</td>\n",
       "      <td>1.112040</td>\n",
       "      <td>0.502871</td>\n",
       "      <td>2.459145</td>\n",
       "    </tr>\n",
       "    <tr>\n",
       "      <th>3</th>\n",
       "      <td>5</td>\n",
       "      <td>Black (Adj.)</td>\n",
       "      <td>1.155188</td>\n",
       "      <td>0.662519</td>\n",
       "      <td>2.014221</td>\n",
       "    </tr>\n",
       "    <tr>\n",
       "      <th>4</th>\n",
       "      <td>2</td>\n",
       "      <td>Black (Raw)</td>\n",
       "      <td>0.517215</td>\n",
       "      <td>0.071112</td>\n",
       "      <td>3.761823</td>\n",
       "    </tr>\n",
       "    <tr>\n",
       "      <th>5</th>\n",
       "      <td>3</td>\n",
       "      <td>Black (Raw)</td>\n",
       "      <td>0.876166</td>\n",
       "      <td>0.318373</td>\n",
       "      <td>2.411219</td>\n",
       "    </tr>\n",
       "    <tr>\n",
       "      <th>6</th>\n",
       "      <td>4</td>\n",
       "      <td>Black (Raw)</td>\n",
       "      <td>1.149137</td>\n",
       "      <td>0.519637</td>\n",
       "      <td>2.541224</td>\n",
       "    </tr>\n",
       "    <tr>\n",
       "      <th>7</th>\n",
       "      <td>5</td>\n",
       "      <td>Black (Raw)</td>\n",
       "      <td>1.147320</td>\n",
       "      <td>0.661932</td>\n",
       "      <td>1.988638</td>\n",
       "    </tr>\n",
       "    <tr>\n",
       "      <th>0</th>\n",
       "      <td>2</td>\n",
       "      <td>Non-Black</td>\n",
       "      <td>1.000000</td>\n",
       "      <td>NaN</td>\n",
       "      <td>NaN</td>\n",
       "    </tr>\n",
       "    <tr>\n",
       "      <th>1</th>\n",
       "      <td>3</td>\n",
       "      <td>Non-Black</td>\n",
       "      <td>1.000000</td>\n",
       "      <td>NaN</td>\n",
       "      <td>NaN</td>\n",
       "    </tr>\n",
       "    <tr>\n",
       "      <th>2</th>\n",
       "      <td>4</td>\n",
       "      <td>Non-Black</td>\n",
       "      <td>1.000000</td>\n",
       "      <td>NaN</td>\n",
       "      <td>NaN</td>\n",
       "    </tr>\n",
       "    <tr>\n",
       "      <th>3</th>\n",
       "      <td>5</td>\n",
       "      <td>Non-Black</td>\n",
       "      <td>1.000000</td>\n",
       "      <td>NaN</td>\n",
       "      <td>NaN</td>\n",
       "    </tr>\n",
       "  </tbody>\n",
       "</table>\n",
       "</div>"
      ],
      "text/plain": [
       "   index        labels      data     lower     upper\n",
       "0      2  Black (Adj.)  0.520545  0.068696  3.944412\n",
       "1      3  Black (Adj.)  0.882729  0.319198  2.441154\n",
       "2      4  Black (Adj.)  1.112040  0.502871  2.459145\n",
       "3      5  Black (Adj.)  1.155188  0.662519  2.014221\n",
       "4      2   Black (Raw)  0.517215  0.071112  3.761823\n",
       "5      3   Black (Raw)  0.876166  0.318373  2.411219\n",
       "6      4   Black (Raw)  1.149137  0.519637  2.541224\n",
       "7      5   Black (Raw)  1.147320  0.661932  1.988638\n",
       "0      2     Non-Black  1.000000       NaN       NaN\n",
       "1      3     Non-Black  1.000000       NaN       NaN\n",
       "2      4     Non-Black  1.000000       NaN       NaN\n",
       "3      5     Non-Black  1.000000       NaN       NaN"
      ]
     },
     "execution_count": 25,
     "metadata": {},
     "output_type": "execute_result"
    }
   ],
   "source": [
    "results_q_plot"
   ]
  },
  {
   "cell_type": "code",
   "execution_count": null,
   "metadata": {},
   "outputs": [],
   "source": []
  }
 ],
 "metadata": {
  "kernelspec": {
   "display_name": "Python 3",
   "language": "python",
   "name": "python3"
  },
  "language_info": {
   "codemirror_mode": {
    "name": "ipython",
    "version": 3
   },
   "file_extension": ".py",
   "mimetype": "text/x-python",
   "name": "python",
   "nbconvert_exporter": "python",
   "pygments_lexer": "ipython3",
   "version": "3.7.7"
  }
 },
 "nbformat": 4,
 "nbformat_minor": 4
}
