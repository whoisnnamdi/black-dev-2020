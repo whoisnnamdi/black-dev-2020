{
 "cells": [
  {
   "cell_type": "markdown",
   "metadata": {},
   "source": [
    "# Progression"
   ]
  },
  {
   "cell_type": "markdown",
   "metadata": {},
   "source": [
    "## Imports"
   ]
  },
  {
   "cell_type": "code",
   "execution_count": 46,
   "metadata": {
    "tags": []
   },
   "outputs": [
    {
     "name": "stdout",
     "output_type": "stream",
     "text": [
      "The rpy2.ipython extension is already loaded. To reload it, use:\n",
      "  %reload_ext rpy2.ipython\n",
      "The autoreload extension is already loaded. To reload it, use:\n",
      "  %reload_ext autoreload\n"
     ]
    }
   ],
   "source": [
    "import analyze\n",
    "import prep\n",
    "import pandas as pd\n",
    "import numpy as np\n",
    "import statsmodels.api as sm\n",
    "import matplotlib.pyplot as plt\n",
    "import seaborn as sns\n",
    "import altair as alt\n",
    "from altair_saver import save\n",
    "from glmnet import LogitNet\n",
    "%load_ext rpy2.ipython\n",
    "\n",
    "%load_ext autoreload\n",
    "%autoreload 2"
   ]
  },
  {
   "cell_type": "markdown",
   "metadata": {},
   "source": [
    "## Load and prepare data"
   ]
  },
  {
   "cell_type": "code",
   "execution_count": 47,
   "metadata": {
    "tags": []
   },
   "outputs": [
    {
     "name": "stderr",
     "output_type": "stream",
     "text": [
      "/anaconda3/lib/python3.7/site-packages/pandas/core/indexing.py:671: SettingWithCopyWarning: \n",
      "A value is trying to be set on a copy of a slice from a DataFrame\n",
      "\n",
      "See the caveats in the documentation: https://pandas.pydata.org/pandas-docs/stable/user_guide/indexing.html#returning-a-view-versus-a-copy\n",
      "  self._setitem_with_indexer(indexer, value)\n"
     ]
    },
    {
     "name": "stdout",
     "output_type": "stream",
     "text": [
      "Removing 26 respondents with missing DevType\n",
      "6258 developers left in the sample after cleaning\n",
      "151 or 2.4% black developers in the sample with multiracial replacement\n",
      "Removing 87 respondents with missing DevType\n",
      "12415 developers left in the sample after cleaning\n",
      "288 or 2.3% black developers in the sample with multiracial replacement\n"
     ]
    }
   ],
   "source": [
    "outcome = \"DevType\"\n",
    "DATA_PATH = \"../data/2020/survey_results_public.csv\"\n",
    "data_raw = pd.read_csv(DATA_PATH)\n",
    "data_2020, keep, groups, categorical, numeric, base = prep.prep(data_raw, outcome, 2020)\n",
    "\n",
    "DATA_PATH = \"../data/2019/survey_results_public.csv\"\n",
    "data_raw = pd.read_csv(DATA_PATH)\n",
    "data_2019, keep, groups, categorical, numeric, base = prep.prep(data_raw, outcome, 2019)"
   ]
  },
  {
   "cell_type": "code",
   "execution_count": 48,
   "metadata": {},
   "outputs": [],
   "source": [
    "data = pd.concat([data_2020, data_2019], axis=0)"
   ]
  },
  {
   "cell_type": "code",
   "execution_count": 49,
   "metadata": {},
   "outputs": [],
   "source": [
    "data[\"Leader\"] = data[\"DevType\"].str.split(\";\").map(lambda x: (\"Engineering manager\" in x) | (\"Senior executive/VP\" in x))\n",
    "data = data.drop([\"DevType\"], axis=1)"
   ]
  },
  {
   "cell_type": "code",
   "execution_count": 50,
   "metadata": {},
   "outputs": [
    {
     "name": "stdout",
     "output_type": "stream",
     "text": [
      "Design matrix complete with 159 variables/columns\n"
     ]
    }
   ],
   "source": [
    "outcome = \"Leader\"\n",
    "X, Y = prep.design_matrix(data, categorical, numeric, base, outcome)\n",
    "X = X.drop([col for col in X.columns if \"PurchaseWhat\" in col], axis=1)"
   ]
  },
  {
   "cell_type": "code",
   "execution_count": 51,
   "metadata": {},
   "outputs": [],
   "source": [
    "data[\"Ethnicity_Black_or_of_African_descent\"] = data[\"Ethnicity\"] == \"Black or of African descent\""
   ]
  },
  {
   "cell_type": "markdown",
   "metadata": {},
   "source": [
    "## Analysis"
   ]
  },
  {
   "cell_type": "code",
   "execution_count": 53,
   "metadata": {},
   "outputs": [],
   "source": [
    "experience = pd.concat([X.groupby(\"Ethnicity_Black_or_of_African_descent\")[\"YearsCodePro\"].median(), X.groupby(\"Ethnicity_Black_or_of_African_descent\")[\"YearsCodePro\"].mean()])\n",
    "experience = pd.concat([experience.reset_index()[\"YearsCodePro\"], pd.Series([\"Non-Black\", \"Black\"] * 2), pd.Series([\"Median\"] * 2 + [\"Mean\"] * 2)], axis=1).rename(columns={\"YearsCodePro\": \"data\", 0: \"labels\", 1: \"agg\"})"
   ]
  },
  {
   "cell_type": "code",
   "execution_count": 54,
   "metadata": {},
   "outputs": [
    {
     "data": {
      "text/html": [
       "<div>\n",
       "<style scoped>\n",
       "    .dataframe tbody tr th:only-of-type {\n",
       "        vertical-align: middle;\n",
       "    }\n",
       "\n",
       "    .dataframe tbody tr th {\n",
       "        vertical-align: top;\n",
       "    }\n",
       "\n",
       "    .dataframe thead th {\n",
       "        text-align: right;\n",
       "    }\n",
       "</style>\n",
       "<table border=\"1\" class=\"dataframe\">\n",
       "  <thead>\n",
       "    <tr style=\"text-align: right;\">\n",
       "      <th></th>\n",
       "      <th>data</th>\n",
       "      <th>labels</th>\n",
       "      <th>agg</th>\n",
       "    </tr>\n",
       "  </thead>\n",
       "  <tbody>\n",
       "    <tr>\n",
       "      <th>0</th>\n",
       "      <td>7.000000</td>\n",
       "      <td>Non-Black</td>\n",
       "      <td>Median</td>\n",
       "    </tr>\n",
       "    <tr>\n",
       "      <th>1</th>\n",
       "      <td>5.000000</td>\n",
       "      <td>Black</td>\n",
       "      <td>Median</td>\n",
       "    </tr>\n",
       "    <tr>\n",
       "      <th>2</th>\n",
       "      <td>9.684655</td>\n",
       "      <td>Non-Black</td>\n",
       "      <td>Mean</td>\n",
       "    </tr>\n",
       "    <tr>\n",
       "      <th>3</th>\n",
       "      <td>7.356492</td>\n",
       "      <td>Black</td>\n",
       "      <td>Mean</td>\n",
       "    </tr>\n",
       "  </tbody>\n",
       "</table>\n",
       "</div>"
      ],
      "text/plain": [
       "       data     labels     agg\n",
       "0  7.000000  Non-Black  Median\n",
       "1  5.000000      Black  Median\n",
       "2  9.684655  Non-Black    Mean\n",
       "3  7.356492      Black    Mean"
      ]
     },
     "execution_count": 54,
     "metadata": {},
     "output_type": "execute_result"
    }
   ],
   "source": [
    "experience"
   ]
  },
  {
   "cell_type": "code",
   "execution_count": 56,
   "metadata": {},
   "outputs": [],
   "source": [
    "representation = {}\n",
    "\n",
    "representation[\"Leader\"] = pd.DataFrame({\"labels\": labels, \n",
    "                                         \"data\": data.groupby(\"Ethnicity_Black_or_of_African_descent\").mean()[\"Leader\"].values})"
   ]
  },
  {
   "cell_type": "code",
   "execution_count": 62,
   "metadata": {},
   "outputs": [
    {
     "name": "stdout",
     "output_type": "stream",
     "text": [
      "Optimization terminated successfully.\n",
      "         Current function value: 0.289215\n",
      "         Iterations 7\n"
     ]
    },
    {
     "data": {
      "text/html": [
       "<div>\n",
       "<style scoped>\n",
       "    .dataframe tbody tr th:only-of-type {\n",
       "        vertical-align: middle;\n",
       "    }\n",
       "\n",
       "    .dataframe tbody tr th {\n",
       "        vertical-align: top;\n",
       "    }\n",
       "\n",
       "    .dataframe thead th {\n",
       "        text-align: right;\n",
       "    }\n",
       "</style>\n",
       "<table border=\"1\" class=\"dataframe\">\n",
       "  <thead>\n",
       "    <tr style=\"text-align: right;\">\n",
       "      <th></th>\n",
       "      <th>coef_ds</th>\n",
       "      <th>se_ds</th>\n",
       "      <th>t_ds</th>\n",
       "      <th>p_ds</th>\n",
       "      <th>lower_ds</th>\n",
       "      <th>upper_ds</th>\n",
       "      <th>coef_raw</th>\n",
       "      <th>se_raw</th>\n",
       "      <th>t_raw</th>\n",
       "      <th>p_raw</th>\n",
       "      <th>lower_raw</th>\n",
       "      <th>upper_raw</th>\n",
       "    </tr>\n",
       "  </thead>\n",
       "  <tbody>\n",
       "    <tr>\n",
       "      <th>Ethnicity_Black_or_of_African_descent</th>\n",
       "      <td>-0.038762</td>\n",
       "      <td>0.197865</td>\n",
       "      <td>-0.1959</td>\n",
       "      <td>0.844688</td>\n",
       "      <td>-0.426595</td>\n",
       "      <td>0.349071</td>\n",
       "      <td>-0.232911</td>\n",
       "      <td>0.191013</td>\n",
       "      <td>-1.21935</td>\n",
       "      <td>0.222711</td>\n",
       "      <td>-0.607289</td>\n",
       "      <td>0.141467</td>\n",
       "    </tr>\n",
       "  </tbody>\n",
       "</table>\n",
       "</div>"
      ],
      "text/plain": [
       "                                        coef_ds     se_ds    t_ds      p_ds  \\\n",
       "Ethnicity_Black_or_of_African_descent -0.038762  0.197865 -0.1959  0.844688   \n",
       "\n",
       "                                       lower_ds  upper_ds  coef_raw    se_raw  \\\n",
       "Ethnicity_Black_or_of_African_descent -0.426595  0.349071 -0.232911  0.191013   \n",
       "\n",
       "                                         t_raw     p_raw  lower_raw  upper_raw  \n",
       "Ethnicity_Black_or_of_African_descent -1.21935  0.222711  -0.607289   0.141467  "
      ]
     },
     "execution_count": 62,
     "metadata": {},
     "output_type": "execute_result"
    }
   ],
   "source": [
    "D = \"Ethnicity\"\n",
    "results = analyze.analyze(Y, X, D, logit=True)\n",
    "results"
   ]
  },
  {
   "cell_type": "code",
   "execution_count": 63,
   "metadata": {},
   "outputs": [],
   "source": [
    "model = LogitNet().fit(X=X.drop([col for col in X.columns if D in col], axis=1).assign(const=1), \n",
    "                       y=Y)\n",
    "\n",
    "predictions = pd.Series(model.predict_proba(X=X.drop([col for col in X.columns if D in col], axis=1).assign(const=1))[:,1])"
   ]
  },
  {
   "cell_type": "code",
   "execution_count": 64,
   "metadata": {},
   "outputs": [],
   "source": [
    "X_q = {}\n",
    "Y_q = {}\n",
    "quantiles = 5\n",
    "\n",
    "for q in range(1, quantiles+1):\n",
    "    X_q[q] = X.reset_index(drop=True).loc[(predictions <= predictions.quantile(q/quantiles)) & (predictions > predictions.quantile(q/quantiles-(1/quantiles)))]\n",
    "    Y_q[q] = Y.reset_index(drop=True).loc[(predictions <= predictions.quantile(q/quantiles)) & (predictions > predictions.quantile(q/quantiles-(1/quantiles)))]"
   ]
  },
  {
   "cell_type": "code",
   "execution_count": 65,
   "metadata": {},
   "outputs": [],
   "source": [
    "results_q_plot = (pd.concat([pd.concat([(pd.concat([Y_q[q], X_q[q]], axis=1)\n",
    "                         .groupby([\"Ethnicity_Black_or_of_African_descent\"])\n",
    "                         .mean()[\"Leader\"]), \n",
    "                       pd.Series([q]* 2, name=\"quantile\"),\n",
    "                       pd.Series(labels, name=\"labels\")], \n",
    "                     axis=1) for q in range(1, quantiles+1)])\n",
    "                  .reset_index(drop=True)\n",
    "                  .rename(columns={\"Leader\": \"data\"}))"
   ]
  },
  {
   "cell_type": "markdown",
   "metadata": {},
   "source": [
    "Note: Due to some unforeseen stochasitcity in the model fitting process, the results for the leadership score quintiles can differ somewhat between various runs and may not match the exact numbers used in the final presentation. The broad conclusion remains unchanged, however."
   ]
  },
  {
   "cell_type": "code",
   "execution_count": 161,
   "metadata": {},
   "outputs": [
    {
     "data": {
      "text/html": [
       "<div>\n",
       "<style scoped>\n",
       "    .dataframe tbody tr th:only-of-type {\n",
       "        vertical-align: middle;\n",
       "    }\n",
       "\n",
       "    .dataframe tbody tr th {\n",
       "        vertical-align: top;\n",
       "    }\n",
       "\n",
       "    .dataframe thead th {\n",
       "        text-align: right;\n",
       "    }\n",
       "</style>\n",
       "<table border=\"1\" class=\"dataframe\">\n",
       "  <thead>\n",
       "    <tr style=\"text-align: right;\">\n",
       "      <th></th>\n",
       "      <th>data</th>\n",
       "      <th>quantile</th>\n",
       "      <th>labels</th>\n",
       "    </tr>\n",
       "  </thead>\n",
       "  <tbody>\n",
       "    <tr>\n",
       "      <th>0</th>\n",
       "      <td>0.007438</td>\n",
       "      <td>1</td>\n",
       "      <td>Non-Black</td>\n",
       "    </tr>\n",
       "    <tr>\n",
       "      <th>1</th>\n",
       "      <td>0.000000</td>\n",
       "      <td>1</td>\n",
       "      <td>Black</td>\n",
       "    </tr>\n",
       "    <tr>\n",
       "      <th>2</th>\n",
       "      <td>0.020914</td>\n",
       "      <td>2</td>\n",
       "      <td>Non-Black</td>\n",
       "    </tr>\n",
       "    <tr>\n",
       "      <th>3</th>\n",
       "      <td>0.020000</td>\n",
       "      <td>2</td>\n",
       "      <td>Black</td>\n",
       "    </tr>\n",
       "    <tr>\n",
       "      <th>4</th>\n",
       "      <td>0.052155</td>\n",
       "      <td>3</td>\n",
       "      <td>Non-Black</td>\n",
       "    </tr>\n",
       "    <tr>\n",
       "      <th>5</th>\n",
       "      <td>0.032609</td>\n",
       "      <td>3</td>\n",
       "      <td>Black</td>\n",
       "    </tr>\n",
       "    <tr>\n",
       "      <th>6</th>\n",
       "      <td>0.098661</td>\n",
       "      <td>4</td>\n",
       "      <td>Non-Black</td>\n",
       "    </tr>\n",
       "    <tr>\n",
       "      <th>7</th>\n",
       "      <td>0.080000</td>\n",
       "      <td>4</td>\n",
       "      <td>Black</td>\n",
       "    </tr>\n",
       "    <tr>\n",
       "      <th>8</th>\n",
       "      <td>0.242978</td>\n",
       "      <td>5</td>\n",
       "      <td>Non-Black</td>\n",
       "    </tr>\n",
       "    <tr>\n",
       "      <th>9</th>\n",
       "      <td>0.279412</td>\n",
       "      <td>5</td>\n",
       "      <td>Black</td>\n",
       "    </tr>\n",
       "  </tbody>\n",
       "</table>\n",
       "</div>"
      ],
      "text/plain": [
       "       data  quantile     labels\n",
       "0  0.007438         1  Non-Black\n",
       "1  0.000000         1      Black\n",
       "2  0.020914         2  Non-Black\n",
       "3  0.020000         2      Black\n",
       "4  0.052155         3  Non-Black\n",
       "5  0.032609         3      Black\n",
       "6  0.098661         4  Non-Black\n",
       "7  0.080000         4      Black\n",
       "8  0.242978         5  Non-Black\n",
       "9  0.279412         5      Black"
      ]
     },
     "execution_count": 161,
     "metadata": {},
     "output_type": "execute_result"
    }
   ],
   "source": [
    "results_q_plot"
   ]
  },
  {
   "cell_type": "markdown",
   "metadata": {},
   "source": [
    "## Results"
   ]
  },
  {
   "cell_type": "code",
   "execution_count": 52,
   "metadata": {},
   "outputs": [],
   "source": [
    "labels = [\"Non-Black\", \"Black\"]\n",
    "colors = [\"#fa7026\", \"#612b8a\"]"
   ]
  },
  {
   "cell_type": "code",
   "execution_count": 42,
   "metadata": {
    "scrolled": true
   },
   "outputs": [
    {
     "data": {
      "image/png": "[encoded data removed]",
      "text/plain": [
       "<Figure size 720x360 with 1 Axes>"
      ]
     },
     "metadata": {
      "needs_background": "light"
     },
     "output_type": "display_data"
    }
   ],
   "source": [
    "plt.rcParams.update({\"font.size\": 15})\n",
    "plt.figure(figsize=(10,5))\n",
    "ax = sns.kdeplot(X.loc[X[\"Ethnicity_Black_or_of_African_descent\"] == 0][\"YearsCodePro\"], shade=True, color=colors[0])\n",
    "ax2 = sns.kdeplot(X.loc[X[\"Ethnicity_Black_or_of_African_descent\"] == 1][\"YearsCodePro\"], shade=True, color=colors[-1])\n",
    "plt.text(x=0, y=0.11, s=\"Distribution of Years of Professional Coding Experience\", fontsize=18.5, fontweight='semibold', color='black')\n",
    "plt.text(x=0, y=0.103, s='Kernel Density Estimate', fontsize=16.5, color='#414141')\n",
    "plt.legend([\"Non-Black\", \"Black\"])\n",
    "sns.despine()\n",
    "plt.xlim(0, 40)\n",
    "plt.savefig('../images/progression_experience_kde.png', format='png', dpi=200)\n",
    "plt.show()"
   ]
  },
  {
   "cell_type": "code",
   "execution_count": 43,
   "metadata": {},
   "outputs": [
    {
     "data": {
      "text/html": [
       "\n",
       "<div id=\"altair-viz-e1c246e0bebe45deafacec509482f0c4\"></div>\n",
       "<script type=\"text/javascript\">\n",
       "  (function(spec, embedOpt){\n",
       "    let outputDiv = document.currentScript.previousElementSibling;\n",
       "    if (outputDiv.id !== \"altair-viz-e1c246e0bebe45deafacec509482f0c4\") {\n",
       "      outputDiv = document.getElementById(\"altair-viz-e1c246e0bebe45deafacec509482f0c4\");\n",
       "    }\n",
       "    const paths = {\n",
       "      \"vega\": \"https://cdn.jsdelivr.net/npm//vega@5?noext\",\n",
       "      \"vega-lib\": \"https://cdn.jsdelivr.net/npm//vega-lib?noext\",\n",
       "      \"vega-lite\": \"https://cdn.jsdelivr.net/npm//vega-lite@4.8.1?noext\",\n",
       "      \"vega-embed\": \"https://cdn.jsdelivr.net/npm//vega-embed@6?noext\",\n",
       "    };\n",
       "\n",
       "    function loadScript(lib) {\n",
       "      return new Promise(function(resolve, reject) {\n",
       "        var s = document.createElement('script');\n",
       "        s.src = paths[lib];\n",
       "        s.async = true;\n",
       "        s.onload = () => resolve(paths[lib]);\n",
       "        s.onerror = () => reject(`Error loading script: ${paths[lib]}`);\n",
       "        document.getElementsByTagName(\"head\")[0].appendChild(s);\n",
       "      });\n",
       "    }\n",
       "\n",
       "    function showError(err) {\n",
       "      outputDiv.innerHTML = `<div class=\"error\" style=\"color:red;\">${err}</div>`;\n",
       "      throw err;\n",
       "    }\n",
       "\n",
       "    function displayChart(vegaEmbed) {\n",
       "      vegaEmbed(outputDiv, spec, embedOpt)\n",
       "        .catch(err => showError(`Javascript Error: ${err.message}<br>This usually means there's a typo in your chart specification. See the javascript console for the full traceback.`));\n",
       "    }\n",
       "\n",
       "    if(typeof define === \"function\" && define.amd) {\n",
       "      requirejs.config({paths});\n",
       "      require([\"vega-embed\"], displayChart, err => showError(`Error loading script: ${err.message}`));\n",
       "    } else if (typeof vegaEmbed === \"function\") {\n",
       "      displayChart(vegaEmbed);\n",
       "    } else {\n",
       "      loadScript(\"vega\")\n",
       "        .then(() => loadScript(\"vega-lite\"))\n",
       "        .then(() => loadScript(\"vega-embed\"))\n",
       "        .catch(showError)\n",
       "        .then(() => displayChart(vegaEmbed));\n",
       "    }\n",
       "  })({\"config\": {\"view\": {\"continuousWidth\": 400, \"continuousHeight\": 300, \"strokeWidth\": 0}, \"axis\": {\"domain\": false}, \"title\": {\"anchor\": \"start\", \"fontSize\": 20, \"offset\": 5}}, \"data\": {\"name\": \"data-4b3434fab7f2469f15734f8bd5d5b753\"}, \"facet\": {\"column\": {\"type\": \"nominal\", \"field\": \"agg\", \"header\": {\"labelFontSize\": 15, \"labelOrient\": \"bottom\"}, \"title\": null}}, \"spec\": {\"layer\": [{\"mark\": {\"type\": \"bar\", \"clip\": true, \"cornerRadiusTopLeft\": 8, \"cornerRadiusTopRight\": 8, \"size\": 50}, \"encoding\": {\"color\": {\"type\": \"nominal\", \"field\": \"labels\", \"legend\": {\"labelFontSize\": 15, \"orient\": \"bottom\", \"title\": null}, \"scale\": {\"domain\": [\"Non-Black\", \"Black\"], \"range\": [\"#fa7026\", \"#612b8a\"]}}, \"x\": {\"type\": \"nominal\", \"axis\": {\"labels\": false, \"tickSize\": 0, \"title\": null}, \"field\": \"labels\", \"sort\": [\"Non-Black\", \"Black\"]}, \"y\": {\"type\": \"quantitative\", \"axis\": {\"format\": \".1f\", \"labelFlush\": false, \"labelFontSize\": 15, \"tickCount\": 4, \"tickSize\": 0, \"title\": null}, \"field\": \"data\", \"scale\": {\"domain\": [0, 12]}}}, \"height\": 300, \"width\": 175}, {\"mark\": {\"type\": \"text\", \"align\": \"center\", \"angle\": 0, \"baseline\": \"middle\", \"dx\": 0, \"dy\": -20, \"fontSize\": 15}, \"encoding\": {\"color\": {\"type\": \"nominal\", \"field\": \"labels\", \"scale\": {\"domain\": [\"Non-Black\", \"Black\"], \"range\": [\"#fa7026\", \"#612b8a\"]}}, \"text\": {\"type\": \"quantitative\", \"field\": \"data\", \"format\": \".1f\"}, \"x\": {\"type\": \"nominal\", \"field\": \"labels\", \"sort\": [\"Non-Black\", \"Black\"]}, \"y\": {\"type\": \"quantitative\", \"field\": \"data\"}}}]}, \"spacing\": 10, \"title\": {\"text\": \"Years of Professional Coding Experience\", \"subtitle\": \"Mean and Median\", \"subtitleColor\": \"gray\", \"dy\": 0}, \"$schema\": \"https://vega.github.io/schema/vega-lite/v4.8.1.json\", \"datasets\": {\"data-4b3434fab7f2469f15734f8bd5d5b753\": [{\"data\": 7.0, \"labels\": \"Non-Black\", \"agg\": \"Median\"}, {\"data\": 5.0, \"labels\": \"Black\", \"agg\": \"Median\"}, {\"data\": 9.6846550400351, \"labels\": \"Non-Black\", \"agg\": \"Mean\"}, {\"data\": 7.356492027334852, \"labels\": \"Black\", \"agg\": \"Mean\"}]}}, {\"mode\": \"vega-lite\"});\n",
       "</script>"
      ],
      "text/plain": [
       "alt.FacetChart(...)"
      ]
     },
     "execution_count": 43,
     "metadata": {},
     "output_type": "execute_result"
    }
   ],
   "source": [
    "color_scale = alt.Scale(\n",
    "    domain=[\"Non-Black\", \"Black\"],\n",
    "    range=[colors[0], colors[-1]]\n",
    ")\n",
    "\n",
    "points = alt.Chart().mark_bar(size=50, cornerRadiusTopLeft=8, cornerRadiusTopRight=8, clip=True).encode(\n",
    "    x=alt.X(\"labels\", \n",
    "        axis=alt.Axis(title=None, labels=False, tickSize=0), \n",
    "        sort=labels\n",
    "       ),\n",
    "    y=alt.Y(\"data\", \n",
    "            axis=alt.Axis(format=\".1f\", title=None, tickCount=4, tickSize=0, labelFlush=False, labelFontSize=15),\n",
    "            scale=alt.Scale(\n",
    "                domain=(0, 12)\n",
    "            )\n",
    "    ),\n",
    "    color=alt.Color(\"labels\", \n",
    "                    scale=color_scale,\n",
    "                    legend=alt.Legend(title=None, orient=\"bottom\", labelFontSize=15))\n",
    ").properties(\n",
    "    width=175,\n",
    "    height=300\n",
    ")\n",
    "\n",
    "text = alt.Chart().mark_text(\n",
    "    align='center',\n",
    "    angle=0,\n",
    "    baseline='middle',\n",
    "    dx=-0,\n",
    "    dy=-20,\n",
    "    fontSize=15\n",
    ").encode(\n",
    "    text=alt.Text(\"data\", format=\".1f\"),\n",
    "    x=alt.X(\"labels\", \n",
    "            sort=labels),\n",
    "    y=\"data\",\n",
    "    color=alt.Color(\"labels\", \n",
    "                    scale=color_scale)\n",
    ")\n",
    "\n",
    "chart = alt.layer(points, text, data=experience).facet(\n",
    "    column=alt.Column(\"agg\", title=None, header=alt.Header(labelOrient='bottom', labelFontSize=15)),\n",
    "    title={\n",
    "        \"text\": \"Years of Professional Coding Experience\", \n",
    "        \"subtitle\": \"Mean and Median\",\n",
    "        \"subtitleColor\": \"gray\",\n",
    "        \"dy\": 0\n",
    "    },\n",
    "    spacing=10\n",
    ").configure_view(\n",
    "    strokeWidth=0\n",
    ").configure_title(\n",
    "    anchor='start',\n",
    "    offset=5,\n",
    "    fontSize=20\n",
    ").configure_axis(\n",
    "    domain=False\n",
    ")\n",
    "\n",
    "chart.save(\"../images/progression_experience_agg.png\", method=\"selenium\", webdriver=\"chrome\", scale_factor=3.0)\n",
    "\n",
    "chart"
   ]
  },
  {
   "cell_type": "code",
   "execution_count": 45,
   "metadata": {},
   "outputs": [
    {
     "data": {
      "text/html": [
       "\n",
       "<div id=\"altair-viz-ad70348e7d854ac981117596a8ff0547\"></div>\n",
       "<script type=\"text/javascript\">\n",
       "  (function(spec, embedOpt){\n",
       "    let outputDiv = document.currentScript.previousElementSibling;\n",
       "    if (outputDiv.id !== \"altair-viz-ad70348e7d854ac981117596a8ff0547\") {\n",
       "      outputDiv = document.getElementById(\"altair-viz-ad70348e7d854ac981117596a8ff0547\");\n",
       "    }\n",
       "    const paths = {\n",
       "      \"vega\": \"https://cdn.jsdelivr.net/npm//vega@5?noext\",\n",
       "      \"vega-lib\": \"https://cdn.jsdelivr.net/npm//vega-lib?noext\",\n",
       "      \"vega-lite\": \"https://cdn.jsdelivr.net/npm//vega-lite@4.8.1?noext\",\n",
       "      \"vega-embed\": \"https://cdn.jsdelivr.net/npm//vega-embed@6?noext\",\n",
       "    };\n",
       "\n",
       "    function loadScript(lib) {\n",
       "      return new Promise(function(resolve, reject) {\n",
       "        var s = document.createElement('script');\n",
       "        s.src = paths[lib];\n",
       "        s.async = true;\n",
       "        s.onload = () => resolve(paths[lib]);\n",
       "        s.onerror = () => reject(`Error loading script: ${paths[lib]}`);\n",
       "        document.getElementsByTagName(\"head\")[0].appendChild(s);\n",
       "      });\n",
       "    }\n",
       "\n",
       "    function showError(err) {\n",
       "      outputDiv.innerHTML = `<div class=\"error\" style=\"color:red;\">${err}</div>`;\n",
       "      throw err;\n",
       "    }\n",
       "\n",
       "    function displayChart(vegaEmbed) {\n",
       "      vegaEmbed(outputDiv, spec, embedOpt)\n",
       "        .catch(err => showError(`Javascript Error: ${err.message}<br>This usually means there's a typo in your chart specification. See the javascript console for the full traceback.`));\n",
       "    }\n",
       "\n",
       "    if(typeof define === \"function\" && define.amd) {\n",
       "      requirejs.config({paths});\n",
       "      require([\"vega-embed\"], displayChart, err => showError(`Error loading script: ${err.message}`));\n",
       "    } else if (typeof vegaEmbed === \"function\") {\n",
       "      displayChart(vegaEmbed);\n",
       "    } else {\n",
       "      loadScript(\"vega\")\n",
       "        .then(() => loadScript(\"vega-lite\"))\n",
       "        .then(() => loadScript(\"vega-embed\"))\n",
       "        .catch(showError)\n",
       "        .then(() => displayChart(vegaEmbed));\n",
       "    }\n",
       "  })({\"config\": {\"view\": {\"continuousWidth\": 400, \"continuousHeight\": 300, \"strokeWidth\": 0}, \"axis\": {\"domain\": false}, \"title\": {\"anchor\": \"start\", \"fontSize\": 20, \"offset\": 5}}, \"layer\": [{\"mark\": {\"type\": \"bar\", \"clip\": true, \"cornerRadiusTopLeft\": 8, \"cornerRadiusTopRight\": 8, \"size\": 55}, \"encoding\": {\"color\": {\"type\": \"quantitative\", \"aggregate\": \"mean\", \"field\": \"Ethnicity_Black_or_of_African_descent\", \"legend\": null, \"scale\": {\"domain\": [0, 0.05], \"scheme\": \"inferno\"}}, \"x\": {\"type\": \"quantitative\", \"axis\": {\"labelFontSize\": 15, \"title\": null}, \"bin\": {\"extent\": [0, 40], \"step\": 5}, \"field\": \"YearsCodePro\", \"scale\": {\"domain\": [0, 40]}}, \"y\": {\"type\": \"quantitative\", \"aggregate\": \"mean\", \"axis\": {\"format\": \".1%\", \"labelFlush\": false, \"labelFontSize\": 15, \"tickCount\": 4, \"tickSize\": 0, \"title\": null}, \"field\": \"Ethnicity_Black_or_of_African_descent\", \"scale\": {\"domain\": [0, 0.04]}}}}, {\"mark\": {\"type\": \"text\", \"align\": \"left\", \"baseline\": \"middle\", \"dx\": -15, \"dy\": -15, \"fontSize\": 15}, \"encoding\": {\"text\": {\"type\": \"quantitative\", \"aggregate\": \"mean\", \"field\": \"Ethnicity_Black_or_of_African_descent\", \"format\": \".1%\"}, \"x\": {\"type\": \"quantitative\", \"bin\": {\"extent\": [0, 40], \"step\": 5}, \"field\": \"YearsCodePro\"}, \"y\": {\"type\": \"quantitative\", \"aggregate\": \"mean\", \"field\": \"Ethnicity_Black_or_of_African_descent\"}}}], \"data\": {\"name\": \"data-55fda1cdbbe20376bfdbc836b23b67e1\"}, \"height\": 300, \"title\": {\"text\": \"Representation by Years of Experience\", \"subtitle\": \"% Black, 5-Year Bins\", \"subtitleColor\": \"gray\"}, \"width\": 500, \"$schema\": \"https://vega.github.io/schema/vega-lite/v4.8.1.json\", \"datasets\": {\"data-55fda1cdbbe20376bfdbc836b23b67e1\": [{\"YearsCodePro\": 0.5, \"Ethnicity_Black_or_of_African_descent\": 0.04264099037138927}, {\"YearsCodePro\": 1.0, \"Ethnicity_Black_or_of_African_descent\": 0.0389908256880734}, {\"YearsCodePro\": 2.0, \"Ethnicity_Black_or_of_African_descent\": 0.039950062421972535}, {\"YearsCodePro\": 3.0, \"Ethnicity_Black_or_of_African_descent\": 0.032388663967611336}, {\"YearsCodePro\": 4.0, \"Ethnicity_Black_or_of_African_descent\": 0.02172437202987101}, {\"YearsCodePro\": 5.0, \"Ethnicity_Black_or_of_African_descent\": 0.019417475728155338}, {\"YearsCodePro\": 6.0, \"Ethnicity_Black_or_of_African_descent\": 0.014598540145985401}, {\"YearsCodePro\": 7.0, \"Ethnicity_Black_or_of_African_descent\": 0.016753926701570682}, {\"YearsCodePro\": 8.0, \"Ethnicity_Black_or_of_African_descent\": 0.017679558011049725}, {\"YearsCodePro\": 9.0, \"Ethnicity_Black_or_of_African_descent\": 0.026748971193415638}, {\"YearsCodePro\": 10.0, \"Ethnicity_Black_or_of_African_descent\": 0.025423728813559324}, {\"YearsCodePro\": 11.0, \"Ethnicity_Black_or_of_African_descent\": 0.01859504132231405}, {\"YearsCodePro\": 12.0, \"Ethnicity_Black_or_of_African_descent\": 0.022617124394184167}, {\"YearsCodePro\": 13.0, \"Ethnicity_Black_or_of_African_descent\": 0.018779342723004695}, {\"YearsCodePro\": 14.0, \"Ethnicity_Black_or_of_African_descent\": 0.01977401129943503}, {\"YearsCodePro\": 15.0, \"Ethnicity_Black_or_of_African_descent\": 0.012110726643598616}, {\"YearsCodePro\": 16.0, \"Ethnicity_Black_or_of_African_descent\": 0.030612244897959183}, {\"YearsCodePro\": 17.0, \"Ethnicity_Black_or_of_African_descent\": 0.0213903743315508}, {\"YearsCodePro\": 18.0, \"Ethnicity_Black_or_of_African_descent\": 0.015772870662460567}, {\"YearsCodePro\": 19.0, \"Ethnicity_Black_or_of_African_descent\": 0.012448132780082987}, {\"YearsCodePro\": 20.0, \"Ethnicity_Black_or_of_African_descent\": 0.01809954751131222}, {\"YearsCodePro\": 21.0, \"Ethnicity_Black_or_of_African_descent\": 0.024154589371980676}, {\"YearsCodePro\": 22.0, \"Ethnicity_Black_or_of_African_descent\": 0.00819672131147541}, {\"YearsCodePro\": 23.0, \"Ethnicity_Black_or_of_African_descent\": 0.022099447513812154}, {\"YearsCodePro\": 24.0, \"Ethnicity_Black_or_of_African_descent\": 0.0}, {\"YearsCodePro\": 25.0, \"Ethnicity_Black_or_of_African_descent\": 0.008097165991902834}, {\"YearsCodePro\": 26.0, \"Ethnicity_Black_or_of_African_descent\": 0.0}, {\"YearsCodePro\": 27.0, \"Ethnicity_Black_or_of_African_descent\": 0.011764705882352941}, {\"YearsCodePro\": 28.0, \"Ethnicity_Black_or_of_African_descent\": 0.02564102564102564}, {\"YearsCodePro\": 29.0, \"Ethnicity_Black_or_of_African_descent\": 0.0}, {\"YearsCodePro\": 30.0, \"Ethnicity_Black_or_of_African_descent\": 0.01764705882352941}, {\"YearsCodePro\": 31.0, \"Ethnicity_Black_or_of_African_descent\": 0.0}, {\"YearsCodePro\": 32.0, \"Ethnicity_Black_or_of_African_descent\": 0.02857142857142857}, {\"YearsCodePro\": 33.0, \"Ethnicity_Black_or_of_African_descent\": 0.016129032258064516}, {\"YearsCodePro\": 34.0, \"Ethnicity_Black_or_of_African_descent\": 0.0}, {\"YearsCodePro\": 35.0, \"Ethnicity_Black_or_of_African_descent\": 0.02127659574468085}, {\"YearsCodePro\": 36.0, \"Ethnicity_Black_or_of_African_descent\": 0.0}, {\"YearsCodePro\": 37.0, \"Ethnicity_Black_or_of_African_descent\": 0.0}, {\"YearsCodePro\": 38.0, \"Ethnicity_Black_or_of_African_descent\": 0.02040816326530612}, {\"YearsCodePro\": 39.0, \"Ethnicity_Black_or_of_African_descent\": 0.0}, {\"YearsCodePro\": 40.0, \"Ethnicity_Black_or_of_African_descent\": 0.0}, {\"YearsCodePro\": 41.0, \"Ethnicity_Black_or_of_African_descent\": 0.06666666666666667}, {\"YearsCodePro\": 42.0, \"Ethnicity_Black_or_of_African_descent\": 0.0}, {\"YearsCodePro\": 43.0, \"Ethnicity_Black_or_of_African_descent\": 0.0}, {\"YearsCodePro\": 44.0, \"Ethnicity_Black_or_of_African_descent\": 0.0}, {\"YearsCodePro\": 45.0, \"Ethnicity_Black_or_of_African_descent\": 0.0}, {\"YearsCodePro\": 46.0, \"Ethnicity_Black_or_of_African_descent\": 0.0}, {\"YearsCodePro\": 47.0, \"Ethnicity_Black_or_of_African_descent\": 0.0}, {\"YearsCodePro\": 48.0, \"Ethnicity_Black_or_of_African_descent\": 0.0}, {\"YearsCodePro\": 49.0, \"Ethnicity_Black_or_of_African_descent\": 0.0}, {\"YearsCodePro\": 50.0, \"Ethnicity_Black_or_of_African_descent\": 0.0}, {\"YearsCodePro\": 51.0, \"Ethnicity_Black_or_of_African_descent\": 0.0}]}}, {\"mode\": \"vega-lite\"});\n",
       "</script>"
      ],
      "text/plain": [
       "alt.LayerChart(...)"
      ]
     },
     "execution_count": 45,
     "metadata": {},
     "output_type": "execute_result"
    }
   ],
   "source": [
    "points = alt.Chart().mark_bar(size=55, cornerRadiusTopLeft=8, cornerRadiusTopRight=8, clip=True).encode(\n",
    "    x=alt.X(\"YearsCodePro\",\n",
    "            axis=alt.Axis(title=None, labelFontSize=15),\n",
    "            scale=alt.Scale(\n",
    "                domain=(0, 40)\n",
    "            ),\n",
    "           bin=alt.Bin(extent=[0, 40], step=5)),\n",
    "    y=alt.Y(\"mean(Ethnicity_Black_or_of_African_descent)\",\n",
    "            axis=alt.Axis(format=\".1%\", title=None, tickCount=4, tickSize=0, labelFlush=False, labelFontSize=15),\n",
    "            scale=alt.Scale(\n",
    "                domain=(0, 0.04)\n",
    "            )\n",
    "           ),\n",
    "    color=alt.Color(\"mean(Ethnicity_Black_or_of_African_descent)\", \n",
    "                    scale=alt.Scale(scheme=\"inferno\", domain=[0, 0.05]),\n",
    "                    legend=None)\n",
    ")\n",
    "\n",
    "text = alt.Chart().mark_text(\n",
    "    align='left',\n",
    "    baseline='middle',\n",
    "    dx=-15,\n",
    "    dy=-15,\n",
    "    fontSize=15\n",
    ").encode(\n",
    "    text=alt.Text(\"mean(Ethnicity_Black_or_of_African_descent)\", format=\".1%\"),\n",
    "    x=alt.X(\"YearsCodePro\",\n",
    "           bin=alt.Bin(extent=[0, 40], step=5)),\n",
    "    y=alt.Y(\"mean(Ethnicity_Black_or_of_African_descent)\"),\n",
    ")\n",
    "\n",
    "chart = alt.layer(points, text, data=data.groupby(\"YearsCodePro\").mean()[\"Ethnicity_Black_or_of_African_descent\"].reset_index()).properties(\n",
    "    width=500,\n",
    "    height=300,\n",
    "    title={\n",
    "        \"text\": \"Representation by Years of Experience\", \n",
    "        \"subtitle\": \"% Black, 5-Year Bins\",\n",
    "        \"subtitleColor\": \"gray\"\n",
    "    }\n",
    ").configure_view(\n",
    "    strokeWidth=0\n",
    ").configure_title(\n",
    "    anchor='start',\n",
    "    offset=5,\n",
    "    fontSize=20\n",
    ").configure_axis(\n",
    "    domain=False\n",
    ")\n",
    "\n",
    "chart.save(\"../images/progression_representation_experience.png\", method=\"selenium\", webdriver=\"chrome\", scale_factor=3.0)\n",
    "\n",
    "chart"
   ]
  },
  {
   "cell_type": "code",
   "execution_count": 113,
   "metadata": {
    "scrolled": false
   },
   "outputs": [
    {
     "data": {
      "text/html": [
       "\n",
       "<div id=\"altair-viz-e76e52f16c0241f79ee63b3a8b1ca711\"></div>\n",
       "<script type=\"text/javascript\">\n",
       "  (function(spec, embedOpt){\n",
       "    let outputDiv = document.currentScript.previousElementSibling;\n",
       "    if (outputDiv.id !== \"altair-viz-e76e52f16c0241f79ee63b3a8b1ca711\") {\n",
       "      outputDiv = document.getElementById(\"altair-viz-e76e52f16c0241f79ee63b3a8b1ca711\");\n",
       "    }\n",
       "    const paths = {\n",
       "      \"vega\": \"https://cdn.jsdelivr.net/npm//vega@5?noext\",\n",
       "      \"vega-lib\": \"https://cdn.jsdelivr.net/npm//vega-lib?noext\",\n",
       "      \"vega-lite\": \"https://cdn.jsdelivr.net/npm//vega-lite@4.8.1?noext\",\n",
       "      \"vega-embed\": \"https://cdn.jsdelivr.net/npm//vega-embed@6?noext\",\n",
       "    };\n",
       "\n",
       "    function loadScript(lib) {\n",
       "      return new Promise(function(resolve, reject) {\n",
       "        var s = document.createElement('script');\n",
       "        s.src = paths[lib];\n",
       "        s.async = true;\n",
       "        s.onload = () => resolve(paths[lib]);\n",
       "        s.onerror = () => reject(`Error loading script: ${paths[lib]}`);\n",
       "        document.getElementsByTagName(\"head\")[0].appendChild(s);\n",
       "      });\n",
       "    }\n",
       "\n",
       "    function showError(err) {\n",
       "      outputDiv.innerHTML = `<div class=\"error\" style=\"color:red;\">${err}</div>`;\n",
       "      throw err;\n",
       "    }\n",
       "\n",
       "    function displayChart(vegaEmbed) {\n",
       "      vegaEmbed(outputDiv, spec, embedOpt)\n",
       "        .catch(err => showError(`Javascript Error: ${err.message}<br>This usually means there's a typo in your chart specification. See the javascript console for the full traceback.`));\n",
       "    }\n",
       "\n",
       "    if(typeof define === \"function\" && define.amd) {\n",
       "      requirejs.config({paths});\n",
       "      require([\"vega-embed\"], displayChart, err => showError(`Error loading script: ${err.message}`));\n",
       "    } else if (typeof vegaEmbed === \"function\") {\n",
       "      displayChart(vegaEmbed);\n",
       "    } else {\n",
       "      loadScript(\"vega\")\n",
       "        .then(() => loadScript(\"vega-lite\"))\n",
       "        .then(() => loadScript(\"vega-embed\"))\n",
       "        .catch(showError)\n",
       "        .then(() => displayChart(vegaEmbed));\n",
       "    }\n",
       "  })({\"config\": {\"view\": {\"continuousWidth\": 400, \"continuousHeight\": 300, \"strokeWidth\": 0}, \"axis\": {\"domain\": false}, \"title\": {\"anchor\": \"start\", \"fontSize\": 20, \"offset\": 5}}, \"layer\": [{\"mark\": {\"type\": \"bar\", \"clip\": true, \"color\": \"#612b8a\", \"cornerRadiusBottomRight\": 18, \"cornerRadiusTopRight\": 18, \"size\": 180}, \"encoding\": {\"color\": {\"type\": \"nominal\", \"field\": \"labels\", \"legend\": null, \"scale\": {\"domain\": [\"Non-Black\", \"Black\"], \"range\": [\"#fa7026\", \"#612b8a\"]}}, \"x\": {\"type\": \"quantitative\", \"axis\": {\"format\": \".1%\", \"labelFlush\": false, \"labelFontSize\": 15, \"tickCount\": 5, \"tickSize\": 0, \"title\": null}, \"field\": \"data\"}, \"y\": {\"type\": \"nominal\", \"axis\": {\"labelFontSize\": 15, \"title\": null}, \"field\": \"labels\", \"sort\": \"-x\"}}}, {\"mark\": {\"type\": \"text\", \"align\": \"left\", \"baseline\": \"middle\", \"dx\": 10, \"dy\": 0, \"fontSize\": 15}, \"encoding\": {\"text\": {\"type\": \"quantitative\", \"field\": \"data\", \"format\": \".1%\"}, \"x\": {\"type\": \"quantitative\", \"field\": \"data\"}, \"y\": {\"type\": \"nominal\", \"field\": \"labels\", \"sort\": \"-x\"}}}], \"data\": {\"name\": \"data-2a1b0756b9e32d7ede4ad2eef2af0460\"}, \"height\": 500, \"title\": {\"text\": \"Engineering Managers and Executives By Race\", \"subtitle\": \"% of Software Developers\", \"subtitleColor\": \"gray\"}, \"width\": 600, \"$schema\": \"https://vega.github.io/schema/vega-lite/v4.8.1.json\", \"datasets\": {\"data-2a1b0756b9e32d7ede4ad2eef2af0460\": [{\"labels\": \"Non-Black\", \"data\": 0.08473181967752551}, {\"labels\": \"Black\", \"data\": 0.0683371298405467}]}}, {\"mode\": \"vega-lite\"});\n",
       "</script>"
      ],
      "text/plain": [
       "alt.LayerChart(...)"
      ]
     },
     "execution_count": 113,
     "metadata": {},
     "output_type": "execute_result"
    }
   ],
   "source": [
    "color_scale = alt.Scale(\n",
    "    domain=labels,\n",
    "    range=colors\n",
    ")\n",
    "\n",
    "points = alt.Chart().mark_bar(size=180, cornerRadiusBottomRight=18, cornerRadiusTopRight=18, clip=True, color=\"#612b8a\").encode(\n",
    "    x=alt.X(\"data\", \n",
    "            axis=alt.Axis(format=\".1%\", title=None, tickCount=5, tickSize=0, labelFlush=False, labelFontSize=15),\n",
    "    ),\n",
    "    y=alt.Y(\"labels\", \n",
    "            axis=alt.Axis(title=None, labelFontSize=15), sort=\"-x\"\n",
    "           ),\n",
    "    color=alt.Color(\"labels\", \n",
    "                    scale=color_scale,\n",
    "                    legend=None)\n",
    ")\n",
    "\n",
    "text = alt.Chart().mark_text(\n",
    "    align='left',\n",
    "    baseline='middle',\n",
    "    dx=10,\n",
    "    dy=0,\n",
    "    fontSize=15\n",
    ").encode(\n",
    "    text=alt.Text(\"data\", format=\".1%\"),\n",
    "    x=\"data\",\n",
    "    y=alt.Y(\"labels\", sort=\"-x\"),\n",
    ")\n",
    "\n",
    "chart = alt.layer(points, text, data=representation[\"Leader\"]).properties(\n",
    "    width=600,\n",
    "    height=500,\n",
    "    title={\n",
    "        \"text\": \"Engineering Managers and Executives By Race\", \n",
    "        \"subtitle\": \"% of Software Developers\",\n",
    "        \"subtitleColor\": \"gray\"\n",
    "    }\n",
    ").configure_view(\n",
    "    strokeWidth=0\n",
    ").configure_title(\n",
    "    anchor='start',\n",
    "    offset=5,\n",
    "    fontSize=20\n",
    ").configure_axis(\n",
    "    domain=False\n",
    ")\n",
    "\n",
    "chart.save(\"../images/progression_leaders.png\", method=\"selenium\", webdriver=\"chrome\", scale_factor=3.0)\n",
    "\n",
    "chart"
   ]
  },
  {
   "cell_type": "markdown",
   "metadata": {},
   "source": [
    "Note: Due to some unforeseen stochasitcity in the model fitting process, the results for the leadership score quintiles can differ somewhat between various runs and may not match the exact numbers used in the final presentation. The broad conclusion remains unchanged, however."
   ]
  },
  {
   "cell_type": "code",
   "execution_count": 162,
   "metadata": {},
   "outputs": [
    {
     "data": {
      "text/html": [
       "\n",
       "<div id=\"altair-viz-0ebef0dd48694feda5a69a3a7fb35888\"></div>\n",
       "<script type=\"text/javascript\">\n",
       "  (function(spec, embedOpt){\n",
       "    let outputDiv = document.currentScript.previousElementSibling;\n",
       "    if (outputDiv.id !== \"altair-viz-0ebef0dd48694feda5a69a3a7fb35888\") {\n",
       "      outputDiv = document.getElementById(\"altair-viz-0ebef0dd48694feda5a69a3a7fb35888\");\n",
       "    }\n",
       "    const paths = {\n",
       "      \"vega\": \"https://cdn.jsdelivr.net/npm//vega@5?noext\",\n",
       "      \"vega-lib\": \"https://cdn.jsdelivr.net/npm//vega-lib?noext\",\n",
       "      \"vega-lite\": \"https://cdn.jsdelivr.net/npm//vega-lite@4.8.1?noext\",\n",
       "      \"vega-embed\": \"https://cdn.jsdelivr.net/npm//vega-embed@6?noext\",\n",
       "    };\n",
       "\n",
       "    function loadScript(lib) {\n",
       "      return new Promise(function(resolve, reject) {\n",
       "        var s = document.createElement('script');\n",
       "        s.src = paths[lib];\n",
       "        s.async = true;\n",
       "        s.onload = () => resolve(paths[lib]);\n",
       "        s.onerror = () => reject(`Error loading script: ${paths[lib]}`);\n",
       "        document.getElementsByTagName(\"head\")[0].appendChild(s);\n",
       "      });\n",
       "    }\n",
       "\n",
       "    function showError(err) {\n",
       "      outputDiv.innerHTML = `<div class=\"error\" style=\"color:red;\">${err}</div>`;\n",
       "      throw err;\n",
       "    }\n",
       "\n",
       "    function displayChart(vegaEmbed) {\n",
       "      vegaEmbed(outputDiv, spec, embedOpt)\n",
       "        .catch(err => showError(`Javascript Error: ${err.message}<br>This usually means there's a typo in your chart specification. See the javascript console for the full traceback.`));\n",
       "    }\n",
       "\n",
       "    if(typeof define === \"function\" && define.amd) {\n",
       "      requirejs.config({paths});\n",
       "      require([\"vega-embed\"], displayChart, err => showError(`Error loading script: ${err.message}`));\n",
       "    } else if (typeof vegaEmbed === \"function\") {\n",
       "      displayChart(vegaEmbed);\n",
       "    } else {\n",
       "      loadScript(\"vega\")\n",
       "        .then(() => loadScript(\"vega-lite\"))\n",
       "        .then(() => loadScript(\"vega-embed\"))\n",
       "        .catch(showError)\n",
       "        .then(() => displayChart(vegaEmbed));\n",
       "    }\n",
       "  })({\"config\": {\"view\": {\"continuousWidth\": 400, \"continuousHeight\": 300, \"strokeWidth\": 0}, \"axis\": {\"domain\": false}, \"title\": {\"anchor\": \"start\", \"fontSize\": 20, \"offset\": 5}}, \"data\": {\"name\": \"data-054b4d5f6758c3f30bf833d26ce0324d\"}, \"facet\": {\"column\": {\"type\": \"quantitative\", \"field\": \"quantile\", \"header\": {\"labelFontSize\": 15, \"labelOrient\": \"bottom\"}, \"title\": null}}, \"spec\": {\"layer\": [{\"mark\": {\"type\": \"bar\", \"clip\": true, \"cornerRadiusTopLeft\": 8, \"cornerRadiusTopRight\": 8, \"size\": 35}, \"encoding\": {\"color\": {\"type\": \"nominal\", \"field\": \"labels\", \"legend\": {\"labelFontSize\": 15, \"orient\": \"bottom\", \"title\": null}, \"scale\": {\"domain\": [\"Non-Black\", \"Black\"], \"range\": [\"#fa7026\", \"#612b8a\"]}}, \"x\": {\"type\": \"nominal\", \"axis\": {\"labels\": false, \"tickSize\": 0, \"title\": null}, \"field\": \"labels\", \"sort\": [\"Non-Black\", \"Black\"]}, \"y\": {\"type\": \"quantitative\", \"axis\": {\"format\": \".1%\", \"labelFlush\": false, \"labelFontSize\": 15, \"tickCount\": 4, \"tickSize\": 0, \"title\": null}, \"field\": \"data\"}}, \"height\": 300, \"width\": 100}, {\"mark\": {\"type\": \"text\", \"align\": \"center\", \"baseline\": \"middle\", \"dx\": 0, \"dy\": -20, \"fontSize\": 15}, \"encoding\": {\"color\": {\"type\": \"nominal\", \"field\": \"labels\", \"scale\": {\"domain\": [\"Non-Black\", \"Black\"], \"range\": [\"#fa7026\", \"#612b8a\"]}}, \"text\": {\"type\": \"quantitative\", \"field\": \"data\", \"format\": \".1%\"}, \"x\": {\"type\": \"nominal\", \"field\": \"labels\", \"sort\": [\"Non-Black\", \"Black\"]}, \"y\": {\"type\": \"quantitative\", \"field\": \"data\"}}}]}, \"spacing\": 10, \"title\": {\"text\": \"Engineering Managers or Executives by Leadership Score Quintile\", \"subtitle\": \"% of Software Developers\", \"subtitleColor\": \"gray\"}, \"$schema\": \"https://vega.github.io/schema/vega-lite/v4.8.1.json\", \"datasets\": {\"data-054b4d5f6758c3f30bf833d26ce0324d\": [{\"data\": 0.00743801652892562, \"quantile\": 1, \"labels\": \"Non-Black\"}, {\"data\": 0.0, \"quantile\": 1, \"labels\": \"Black\"}, {\"data\": 0.020913593835993397, \"quantile\": 2, \"labels\": \"Non-Black\"}, {\"data\": 0.02, \"quantile\": 2, \"labels\": \"Black\"}, {\"data\": 0.052154817458138894, \"quantile\": 3, \"labels\": \"Non-Black\"}, {\"data\": 0.03260869565217391, \"quantile\": 3, \"labels\": \"Black\"}, {\"data\": 0.09866083629406942, \"quantile\": 4, \"labels\": \"Non-Black\"}, {\"data\": 0.08, \"quantile\": 4, \"labels\": \"Black\"}, {\"data\": 0.242977911098991, \"quantile\": 5, \"labels\": \"Non-Black\"}, {\"data\": 0.27941176470588236, \"quantile\": 5, \"labels\": \"Black\"}]}}, {\"mode\": \"vega-lite\"});\n",
       "</script>"
      ],
      "text/plain": [
       "alt.FacetChart(...)"
      ]
     },
     "execution_count": 162,
     "metadata": {},
     "output_type": "execute_result"
    }
   ],
   "source": [
    "color_scale = alt.Scale(\n",
    "    domain=labels,\n",
    "    range=colors\n",
    ")\n",
    "\n",
    "points = alt.Chart().mark_bar(size=35, cornerRadiusTopLeft=8, cornerRadiusTopRight=8, clip=True).encode(\n",
    "    x=alt.X(\"labels\", \n",
    "        axis=alt.Axis(title=None, labels=False, tickSize=0), \n",
    "        sort=labels\n",
    "       ),\n",
    "    y=alt.Y(\"data\", \n",
    "            axis=alt.Axis(format=\".1%\", title=None, tickCount=4, tickSize=0, labelFlush=False, labelFontSize=15),\n",
    "    ),\n",
    "    color=alt.Color(\"labels\", \n",
    "                    scale=color_scale,\n",
    "                    legend=alt.Legend(title=None, orient=\"bottom\", labelFontSize=15))\n",
    ").properties(\n",
    "    width=100,\n",
    "    height=300\n",
    ")\n",
    "\n",
    "text = alt.Chart().mark_text(\n",
    "    align='center',\n",
    "    baseline='middle',\n",
    "    dx=0,\n",
    "    dy=-20,\n",
    "    fontSize=15\n",
    ").encode(\n",
    "    text=alt.Text(\"data\", format=\".1%\"),\n",
    "    x=alt.X(\"labels\", \n",
    "            sort=labels),\n",
    "    y=\"data\",\n",
    "    color=alt.Color(\"labels\", \n",
    "                    scale=color_scale)\n",
    ")\n",
    "\n",
    "chart = alt.layer(points, text, data=results_q_plot).facet(\n",
    "    column=alt.Column(\"quantile\", title=None, header=alt.Header(labelOrient='bottom', labelFontSize=15)),\n",
    "    title={\n",
    "        \"text\": \"Engineering Managers or Executives by Leadership Score Quintile\", \n",
    "        \"subtitle\": \"% of Software Developers\",\n",
    "        \"subtitleColor\": \"gray\",\n",
    "    },\n",
    "    spacing=10\n",
    ").configure_view(\n",
    "    strokeWidth=0\n",
    ").configure_title(\n",
    "    anchor='start',\n",
    "    offset=5,\n",
    "    fontSize=20\n",
    ").configure_axis(\n",
    "    domain=False\n",
    ")\n",
    "\n",
    "chart.save(\"../images/progression_leaders_quintile.png\", method=\"selenium\", webdriver=\"chrome\", scale_factor=3.0)\n",
    "\n",
    "chart"
   ]
  },
  {
   "cell_type": "code",
   "execution_count": null,
   "metadata": {},
   "outputs": [],
   "source": []
  }
 ],
 "metadata": {
  "kernelspec": {
   "display_name": "Python 3",
   "language": "python",
   "name": "python3"
  },
  "language_info": {
   "codemirror_mode": {
    "name": "ipython",
    "version": 3
   },
   "file_extension": ".py",
   "mimetype": "text/x-python",
   "name": "python",
   "nbconvert_exporter": "python",
   "pygments_lexer": "ipython3",
   "version": "3.7.7"
  }
 },
 "nbformat": 4,
 "nbformat_minor": 4
}
