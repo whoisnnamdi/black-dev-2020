{
 "cells": [
  {
   "cell_type": "markdown",
   "metadata": {},
   "source": [
    "# Representation"
   ]
  },
  {
   "cell_type": "markdown",
   "metadata": {},
   "source": [
    "## Imports"
   ]
  },
  {
   "cell_type": "code",
   "execution_count": 1,
   "metadata": {
    "tags": []
   },
   "outputs": [
    {
     "name": "stderr",
     "output_type": "stream",
     "text": [
      "/anaconda3/lib/python3.7/site-packages/rpy2/robjects/pandas2ri.py:15: FutureWarning: pandas.core.index is deprecated and will be removed in a future version.  The public classes are available in the top-level namespace.\n",
      "  from pandas.core.index import Index as PandasIndex\n"
     ]
    }
   ],
   "source": [
    "import analyze\n",
    "import prep\n",
    "import pandas as pd\n",
    "import numpy as np\n",
    "import statsmodels.api as sm\n",
    "import matplotlib.pyplot as plt\n",
    "from prep import text_clean\n",
    "import altair as alt\n",
    "from altair_saver import save\n",
    "%load_ext rpy2.ipython\n",
    "\n",
    "%load_ext autoreload\n",
    "%autoreload 2"
   ]
  },
  {
   "cell_type": "markdown",
   "metadata": {},
   "source": [
    "## Load and prepare data"
   ]
  },
  {
   "cell_type": "code",
   "execution_count": 2,
   "metadata": {
    "tags": []
   },
   "outputs": [
    {
     "name": "stderr",
     "output_type": "stream",
     "text": [
      "/anaconda3/lib/python3.7/site-packages/pandas/core/indexing.py:671: SettingWithCopyWarning: \n",
      "A value is trying to be set on a copy of a slice from a DataFrame\n",
      "\n",
      "See the caveats in the documentation: https://pandas.pydata.org/pandas-docs/stable/user_guide/indexing.html#returning-a-view-versus-a-copy\n",
      "  self._setitem_with_indexer(indexer, value)\n"
     ]
    },
    {
     "name": "stdout",
     "output_type": "stream",
     "text": [
      "Removing 0 respondents with missing Wage\n",
      "6284 developers left in the sample after cleaning\n",
      "151 or 2.4% black developers in the sample with multiracial replacement\n",
      "Removing 0 respondents with missing Wage\n",
      "12502 developers left in the sample after cleaning\n",
      "291 or 2.3% black developers in the sample with multiracial replacement\n"
     ]
    }
   ],
   "source": [
    "outcome = \"Wage\"\n",
    "DATA_PATH = \"../data/2020/survey_results_public.csv\"\n",
    "data_raw = pd.read_csv(DATA_PATH)\n",
    "data_2020, keep, groups, categorical, numeric, base = prep.prep(data_raw, outcome, 2020)\n",
    "\n",
    "DATA_PATH = \"../data/2019/survey_results_public.csv\"\n",
    "data_raw = pd.read_csv(DATA_PATH)\n",
    "data_2019, keep, groups, categorical, numeric, base = prep.prep(data_raw, outcome, 2019)"
   ]
  },
  {
   "cell_type": "code",
   "execution_count": 3,
   "metadata": {},
   "outputs": [],
   "source": [
    "data = pd.concat([data_2020, data_2019], axis=0)"
   ]
  },
  {
   "cell_type": "code",
   "execution_count": 4,
   "metadata": {},
   "outputs": [
    {
     "name": "stdout",
     "output_type": "stream",
     "text": [
      "Design matrix complete with 184 variables/columns\n"
     ]
    }
   ],
   "source": [
    "X, Y = prep.design_matrix(data, categorical, numeric, base, outcome)"
   ]
  },
  {
   "cell_type": "code",
   "execution_count": 5,
   "metadata": {},
   "outputs": [],
   "source": [
    "data[\"Ethnicity_Black_or_of_African_descent\"] = data[\"Ethnicity\"] == \"Black or of African descent\""
   ]
  },
  {
   "cell_type": "code",
   "execution_count": 6,
   "metadata": {},
   "outputs": [],
   "source": [
    "breakdown = [\"DevType\", \"OrgSize\", \"Gender\"]"
   ]
  },
  {
   "cell_type": "code",
   "execution_count": 7,
   "metadata": {},
   "outputs": [],
   "source": [
    "for column in breakdown:\n",
    "    for col in sorted(set([i for row in data[column].str.split(\";\") for i in row])):            \n",
    "                # Create control columns\n",
    "                data[column+\"_\"+text_clean(col)] = data[column].str.split(\";\").map(lambda x: col in x)\n",
    "\n",
    "    data = data.drop([column], axis=1)"
   ]
  },
  {
   "cell_type": "code",
   "execution_count": 8,
   "metadata": {},
   "outputs": [],
   "source": [
    "representation = {}\n",
    "\n",
    "for column in breakdown:\n",
    "    types = []\n",
    "    \n",
    "    for col in [col for col in data.columns if column in col]:\n",
    "        types.append(data.loc[data[col] == 1][\"Ethnicity_Black_or_of_African_descent\"].mean())\n",
    "    \n",
    "    representation[column] = pd.Series(types, index=[col[len(column)+1:] for col in data.columns if column in col]\n",
    "                                      ).sort_values(ascending=False).drop(\"No_answer\").reset_index()\n",
    "    \n",
    "    representation[column] = representation[column].rename(columns={\"index\": \"labels\", 0: \"data\"})"
   ]
  },
  {
   "cell_type": "code",
   "execution_count": 9,
   "metadata": {},
   "outputs": [],
   "source": [
    "representation[\"DevType\"] = representation[\"DevType\"].loc[(representation[\"DevType\"][\"labels\"] != \"Marketing_or_sales_professional\") & \\\n",
    "                                                          (representation[\"DevType\"][\"labels\"] != \"Student\")]\n",
    "\n",
    "representation[\"DevType\"][\"labels\"] = [\"Educator\", \n",
    "                                       \"Mobile\",\n",
    "                                       \"Designer\",\n",
    "                                       \"Front-end\",\n",
    "                                       \"Full-stack\",\n",
    "                                       \"QA / Test\",\n",
    "                                       \"Data engineer\",\n",
    "                                       \"Desktop / Enterprise apps\",\n",
    "                                       \"Executive\",\n",
    "                                       \"Back-end\",\n",
    "                                       \"Embedded apps / devices\",\n",
    "                                       \"Data / Business analyst\",\n",
    "                                       \"Site reliability\",\n",
    "                                       \"Engineering manager\",\n",
    "                                       \"Games / Graphics\",\n",
    "                                       \"System admnistrator\",\n",
    "                                       \"Scientist\",\n",
    "                                       \"Database administrator\",\n",
    "                                       \"Data scientist\",\n",
    "                                       \"Product manager\",\n",
    "                                       \"DevOps\",\n",
    "                                       \"Academic researcher\"]"
   ]
  },
  {
   "cell_type": "code",
   "execution_count": 10,
   "metadata": {},
   "outputs": [],
   "source": [
    "representation[\"Gender\"][\"labels\"] = [\"Women\", \"Non-binary\", \"Men\"]"
   ]
  },
  {
   "cell_type": "code",
   "execution_count": 11,
   "metadata": {},
   "outputs": [],
   "source": [
    "representation[\"Total\"] = pd.DataFrame({\"labels\": [\"Non-Black\", \"Black\"], \"data\": [1-data[\"Ethnicity_Black_or_of_African_descent\"].mean(), data[\"Ethnicity_Black_or_of_African_descent\"].mean()]})"
   ]
  },
  {
   "cell_type": "markdown",
   "metadata": {},
   "source": [
    "## Results"
   ]
  },
  {
   "cell_type": "code",
   "execution_count": 12,
   "metadata": {},
   "outputs": [],
   "source": [
    "labels = [\"Non-Black\", \"Black\"]\n",
    "colors = [\"#fa7026\", \"#612b8a\"]"
   ]
  },
  {
   "cell_type": "code",
   "execution_count": 13,
   "metadata": {},
   "outputs": [
    {
     "data": {
      "text/html": [
       "\n",
       "<div id=\"altair-viz-ab608169ef98481ea75558c3a58869de\"></div>\n",
       "<script type=\"text/javascript\">\n",
       "  (function(spec, embedOpt){\n",
       "    let outputDiv = document.currentScript.previousElementSibling;\n",
       "    if (outputDiv.id !== \"altair-viz-ab608169ef98481ea75558c3a58869de\") {\n",
       "      outputDiv = document.getElementById(\"altair-viz-ab608169ef98481ea75558c3a58869de\");\n",
       "    }\n",
       "    const paths = {\n",
       "      \"vega\": \"https://cdn.jsdelivr.net/npm//vega@5?noext\",\n",
       "      \"vega-lib\": \"https://cdn.jsdelivr.net/npm//vega-lib?noext\",\n",
       "      \"vega-lite\": \"https://cdn.jsdelivr.net/npm//vega-lite@4.8.1?noext\",\n",
       "      \"vega-embed\": \"https://cdn.jsdelivr.net/npm//vega-embed@6?noext\",\n",
       "    };\n",
       "\n",
       "    function loadScript(lib) {\n",
       "      return new Promise(function(resolve, reject) {\n",
       "        var s = document.createElement('script');\n",
       "        s.src = paths[lib];\n",
       "        s.async = true;\n",
       "        s.onload = () => resolve(paths[lib]);\n",
       "        s.onerror = () => reject(`Error loading script: ${paths[lib]}`);\n",
       "        document.getElementsByTagName(\"head\")[0].appendChild(s);\n",
       "      });\n",
       "    }\n",
       "\n",
       "    function showError(err) {\n",
       "      outputDiv.innerHTML = `<div class=\"error\" style=\"color:red;\">${err}</div>`;\n",
       "      throw err;\n",
       "    }\n",
       "\n",
       "    function displayChart(vegaEmbed) {\n",
       "      vegaEmbed(outputDiv, spec, embedOpt)\n",
       "        .catch(err => showError(`Javascript Error: ${err.message}<br>This usually means there's a typo in your chart specification. See the javascript console for the full traceback.`));\n",
       "    }\n",
       "\n",
       "    if(typeof define === \"function\" && define.amd) {\n",
       "      requirejs.config({paths});\n",
       "      require([\"vega-embed\"], displayChart, err => showError(`Error loading script: ${err.message}`));\n",
       "    } else if (typeof vegaEmbed === \"function\") {\n",
       "      displayChart(vegaEmbed);\n",
       "    } else {\n",
       "      loadScript(\"vega\")\n",
       "        .then(() => loadScript(\"vega-lite\"))\n",
       "        .then(() => loadScript(\"vega-embed\"))\n",
       "        .catch(showError)\n",
       "        .then(() => displayChart(vegaEmbed));\n",
       "    }\n",
       "  })({\"config\": {\"view\": {\"continuousWidth\": 400, \"continuousHeight\": 300, \"strokeWidth\": 0}, \"axis\": {\"domain\": false}, \"title\": {\"anchor\": \"start\", \"fontSize\": 20, \"offset\": 5}}, \"layer\": [{\"mark\": {\"type\": \"bar\", \"clip\": true, \"color\": \"#612b8a\", \"cornerRadiusBottomRight\": 18, \"cornerRadiusTopRight\": 18, \"size\": 180}, \"encoding\": {\"color\": {\"type\": \"nominal\", \"field\": \"labels\", \"legend\": null, \"scale\": {\"domain\": [\"Non-Black\", \"Black\"], \"range\": [\"#fa7026\", \"#612b8a\"]}}, \"x\": {\"type\": \"quantitative\", \"axis\": {\"format\": \".1%\", \"labelFlush\": false, \"labelFontSize\": 15, \"tickCount\": 5, \"tickSize\": 0, \"title\": null}, \"field\": \"data\"}, \"y\": {\"type\": \"nominal\", \"axis\": {\"labelFontSize\": 15, \"title\": null}, \"field\": \"labels\", \"sort\": \"-x\"}}}, {\"mark\": {\"type\": \"text\", \"align\": \"left\", \"baseline\": \"middle\", \"dx\": 10, \"dy\": 0, \"fontSize\": 15}, \"encoding\": {\"text\": {\"type\": \"quantitative\", \"field\": \"data\", \"format\": \".1%\"}, \"x\": {\"type\": \"quantitative\", \"field\": \"data\"}, \"y\": {\"type\": \"nominal\", \"field\": \"labels\", \"sort\": \"-x\"}}}], \"data\": {\"name\": \"data-81f45bf9a9d4782f2d0c02ecb0760d7a\"}, \"height\": 500, \"title\": {\"text\": \"Representation\", \"subtitle\": \"% of Software Developers\", \"subtitleColor\": \"gray\"}, \"width\": 600, \"$schema\": \"https://vega.github.io/schema/vega-lite/v4.8.1.json\", \"datasets\": {\"data-81f45bf9a9d4782f2d0c02ecb0760d7a\": [{\"labels\": \"Non-Black\", \"data\": 0.9764718407324603}, {\"labels\": \"Black\", \"data\": 0.023528159267539657}]}}, {\"mode\": \"vega-lite\"});\n",
       "</script>"
      ],
      "text/plain": [
       "alt.LayerChart(...)"
      ]
     },
     "execution_count": 13,
     "metadata": {},
     "output_type": "execute_result"
    }
   ],
   "source": [
    "color_scale = alt.Scale(\n",
    "    domain=labels,\n",
    "    range=colors\n",
    ")\n",
    "\n",
    "points = alt.Chart().mark_bar(size=180, cornerRadiusBottomRight=18, cornerRadiusTopRight=18, clip=True, color=\"#612b8a\").encode(\n",
    "    x=alt.X(\"data\", \n",
    "            axis=alt.Axis(format=\".1%\", title=None, tickCount=5, tickSize=0, labelFlush=False, labelFontSize=15),\n",
    "    ),\n",
    "    y=alt.Y(\"labels\", \n",
    "            axis=alt.Axis(title=None, labelFontSize=15), sort=\"-x\"\n",
    "           ),\n",
    "    color=alt.Color(\n",
    "        'labels',\n",
    "        legend=None,\n",
    "        scale=color_scale\n",
    "    )\n",
    ")\n",
    "\n",
    "text = alt.Chart().mark_text(\n",
    "    align='left',\n",
    "    baseline='middle',\n",
    "    dx=10,\n",
    "    dy=0,\n",
    "    fontSize=15\n",
    ").encode(\n",
    "    text=alt.Text(\"data\", format=\".1%\"),\n",
    "    x=\"data\",\n",
    "    y=alt.Y(\"labels\", sort=\"-x\"),\n",
    ")\n",
    "\n",
    "chart = alt.layer(points, text, data=representation[\"Total\"]).properties(\n",
    "    width=600,\n",
    "    height=500,\n",
    "    title={\n",
    "        \"text\": \"Representation\", \n",
    "        \"subtitle\": \"% of Software Developers\",\n",
    "        \"subtitleColor\": \"gray\"\n",
    "    }\n",
    ").configure_view(\n",
    "    strokeWidth=0\n",
    ").configure_title(\n",
    "    anchor='start',\n",
    "    offset=5,\n",
    "    fontSize=20\n",
    ").configure_axis(\n",
    "    domain=False\n",
    ")\n",
    "\n",
    "chart.save(\"../images/representation.png\", method=\"selenium\", webdriver=\"chrome\", scale_factor=3.0)\n",
    "\n",
    "chart"
   ]
  },
  {
   "cell_type": "code",
   "execution_count": 14,
   "metadata": {},
   "outputs": [
    {
     "data": {
      "text/html": [
       "\n",
       "<div id=\"altair-viz-e74e4d8088bc4ed48a7edb3e65ad5d94\"></div>\n",
       "<script type=\"text/javascript\">\n",
       "  (function(spec, embedOpt){\n",
       "    let outputDiv = document.currentScript.previousElementSibling;\n",
       "    if (outputDiv.id !== \"altair-viz-e74e4d8088bc4ed48a7edb3e65ad5d94\") {\n",
       "      outputDiv = document.getElementById(\"altair-viz-e74e4d8088bc4ed48a7edb3e65ad5d94\");\n",
       "    }\n",
       "    const paths = {\n",
       "      \"vega\": \"https://cdn.jsdelivr.net/npm//vega@5?noext\",\n",
       "      \"vega-lib\": \"https://cdn.jsdelivr.net/npm//vega-lib?noext\",\n",
       "      \"vega-lite\": \"https://cdn.jsdelivr.net/npm//vega-lite@4.8.1?noext\",\n",
       "      \"vega-embed\": \"https://cdn.jsdelivr.net/npm//vega-embed@6?noext\",\n",
       "    };\n",
       "\n",
       "    function loadScript(lib) {\n",
       "      return new Promise(function(resolve, reject) {\n",
       "        var s = document.createElement('script');\n",
       "        s.src = paths[lib];\n",
       "        s.async = true;\n",
       "        s.onload = () => resolve(paths[lib]);\n",
       "        s.onerror = () => reject(`Error loading script: ${paths[lib]}`);\n",
       "        document.getElementsByTagName(\"head\")[0].appendChild(s);\n",
       "      });\n",
       "    }\n",
       "\n",
       "    function showError(err) {\n",
       "      outputDiv.innerHTML = `<div class=\"error\" style=\"color:red;\">${err}</div>`;\n",
       "      throw err;\n",
       "    }\n",
       "\n",
       "    function displayChart(vegaEmbed) {\n",
       "      vegaEmbed(outputDiv, spec, embedOpt)\n",
       "        .catch(err => showError(`Javascript Error: ${err.message}<br>This usually means there's a typo in your chart specification. See the javascript console for the full traceback.`));\n",
       "    }\n",
       "\n",
       "    if(typeof define === \"function\" && define.amd) {\n",
       "      requirejs.config({paths});\n",
       "      require([\"vega-embed\"], displayChart, err => showError(`Error loading script: ${err.message}`));\n",
       "    } else if (typeof vegaEmbed === \"function\") {\n",
       "      displayChart(vegaEmbed);\n",
       "    } else {\n",
       "      loadScript(\"vega\")\n",
       "        .then(() => loadScript(\"vega-lite\"))\n",
       "        .then(() => loadScript(\"vega-embed\"))\n",
       "        .catch(showError)\n",
       "        .then(() => displayChart(vegaEmbed));\n",
       "    }\n",
       "  })({\"config\": {\"view\": {\"continuousWidth\": 400, \"continuousHeight\": 300, \"strokeWidth\": 0}, \"axis\": {\"domain\": false}, \"title\": {\"anchor\": \"start\", \"fontSize\": 20, \"offset\": 5}}, \"layer\": [{\"mark\": {\"type\": \"bar\", \"clip\": true, \"color\": \"#612b8a\", \"cornerRadiusBottomRight\": 8, \"cornerRadiusTopRight\": 8}, \"encoding\": {\"color\": {\"type\": \"quantitative\", \"field\": \"data\", \"legend\": null, \"scale\": {\"domain\": [0.005, 0.08], \"scheme\": \"inferno\"}}, \"x\": {\"type\": \"quantitative\", \"axis\": {\"format\": \".1%\", \"labelFlush\": false, \"labelFontSize\": 15, \"tickCount\": 5, \"tickSize\": 0, \"title\": null}, \"field\": \"data\"}, \"y\": {\"type\": \"nominal\", \"axis\": {\"labelFontSize\": 15, \"title\": null}, \"field\": \"labels\", \"sort\": \"-x\"}}}, {\"mark\": {\"type\": \"text\", \"align\": \"left\", \"baseline\": \"middle\", \"dx\": 10, \"dy\": 0, \"fontSize\": 15}, \"encoding\": {\"text\": {\"type\": \"quantitative\", \"field\": \"data\", \"format\": \".1%\"}, \"x\": {\"type\": \"quantitative\", \"field\": \"data\"}, \"y\": {\"type\": \"nominal\", \"field\": \"labels\", \"sort\": \"-x\"}}}], \"data\": {\"name\": \"data-ba5459acc69499dadc779ecc659c2a91\"}, \"height\": 500, \"title\": {\"text\": \"Representation by Gender\", \"subtitle\": \"% Black\", \"subtitleColor\": \"gray\"}, \"width\": 400, \"$schema\": \"https://vega.github.io/schema/vega-lite/v4.8.1.json\", \"datasets\": {\"data-ba5459acc69499dadc779ecc659c2a91\": [{\"labels\": \"Women\", \"data\": 0.05961754780652419}, {\"labels\": \"Non-binary\", \"data\": 0.0345821325648415}, {\"labels\": \"Men\", \"data\": 0.019438707325962822}]}}, {\"mode\": \"vega-lite\"});\n",
       "</script>"
      ],
      "text/plain": [
       "alt.LayerChart(...)"
      ]
     },
     "execution_count": 14,
     "metadata": {},
     "output_type": "execute_result"
    }
   ],
   "source": [
    "points = alt.Chart().mark_bar(cornerRadiusBottomRight=8, cornerRadiusTopRight=8, clip=True, color=\"#612b8a\").encode(\n",
    "    x=alt.X(\"data\", \n",
    "            axis=alt.Axis(format=\".1%\", title=None, tickCount=5, tickSize=0, labelFlush=False, labelFontSize=15),\n",
    "    ),\n",
    "    y=alt.Y(\"labels\", \n",
    "            axis=alt.Axis(title=None, labelFontSize=15), sort=\"-x\"\n",
    "           ),\n",
    "    color=alt.Color(\"data\", \n",
    "                scale=alt.Scale(scheme=\"inferno\", domain=[0.005, 0.08]),\n",
    "                legend=None)\n",
    ")\n",
    "\n",
    "text = alt.Chart().mark_text(\n",
    "    align='left',\n",
    "    baseline='middle',\n",
    "    dx=10,\n",
    "    dy=0,\n",
    "    fontSize=15\n",
    ").encode(\n",
    "    text=alt.Text(\"data\", format=\".1%\"),\n",
    "    x=\"data\",\n",
    "    y=alt.Y(\"labels\", sort=\"-x\"),\n",
    ")\n",
    "\n",
    "chart = alt.layer(points, text, data=representation[\"Gender\"]).properties(\n",
    "    width=400,\n",
    "    height=500,\n",
    "    title={\n",
    "        \"text\": \"Representation by Gender\", \n",
    "        \"subtitle\": \"% Black\",\n",
    "        \"subtitleColor\": \"gray\"\n",
    "    }\n",
    ").configure_view(\n",
    "    strokeWidth=0\n",
    ").configure_title(\n",
    "    anchor='start',\n",
    "    offset=5,\n",
    "    fontSize=20\n",
    ").configure_axis(\n",
    "    domain=False\n",
    ")\n",
    "\n",
    "chart.save(\"../images/representation_gender.png\", method=\"selenium\", webdriver=\"chrome\", scale_factor=3.0)\n",
    "\n",
    "chart"
   ]
  },
  {
   "cell_type": "code",
   "execution_count": 15,
   "metadata": {},
   "outputs": [
    {
     "data": {
      "text/html": [
       "\n",
       "<div id=\"altair-viz-955363367d1c4fee8a1352468e962dcc\"></div>\n",
       "<script type=\"text/javascript\">\n",
       "  (function(spec, embedOpt){\n",
       "    let outputDiv = document.currentScript.previousElementSibling;\n",
       "    if (outputDiv.id !== \"altair-viz-955363367d1c4fee8a1352468e962dcc\") {\n",
       "      outputDiv = document.getElementById(\"altair-viz-955363367d1c4fee8a1352468e962dcc\");\n",
       "    }\n",
       "    const paths = {\n",
       "      \"vega\": \"https://cdn.jsdelivr.net/npm//vega@5?noext\",\n",
       "      \"vega-lib\": \"https://cdn.jsdelivr.net/npm//vega-lib?noext\",\n",
       "      \"vega-lite\": \"https://cdn.jsdelivr.net/npm//vega-lite@4.8.1?noext\",\n",
       "      \"vega-embed\": \"https://cdn.jsdelivr.net/npm//vega-embed@6?noext\",\n",
       "    };\n",
       "\n",
       "    function loadScript(lib) {\n",
       "      return new Promise(function(resolve, reject) {\n",
       "        var s = document.createElement('script');\n",
       "        s.src = paths[lib];\n",
       "        s.async = true;\n",
       "        s.onload = () => resolve(paths[lib]);\n",
       "        s.onerror = () => reject(`Error loading script: ${paths[lib]}`);\n",
       "        document.getElementsByTagName(\"head\")[0].appendChild(s);\n",
       "      });\n",
       "    }\n",
       "\n",
       "    function showError(err) {\n",
       "      outputDiv.innerHTML = `<div class=\"error\" style=\"color:red;\">${err}</div>`;\n",
       "      throw err;\n",
       "    }\n",
       "\n",
       "    function displayChart(vegaEmbed) {\n",
       "      vegaEmbed(outputDiv, spec, embedOpt)\n",
       "        .catch(err => showError(`Javascript Error: ${err.message}<br>This usually means there's a typo in your chart specification. See the javascript console for the full traceback.`));\n",
       "    }\n",
       "\n",
       "    if(typeof define === \"function\" && define.amd) {\n",
       "      requirejs.config({paths});\n",
       "      require([\"vega-embed\"], displayChart, err => showError(`Error loading script: ${err.message}`));\n",
       "    } else if (typeof vegaEmbed === \"function\") {\n",
       "      displayChart(vegaEmbed);\n",
       "    } else {\n",
       "      loadScript(\"vega\")\n",
       "        .then(() => loadScript(\"vega-lite\"))\n",
       "        .then(() => loadScript(\"vega-embed\"))\n",
       "        .catch(showError)\n",
       "        .then(() => displayChart(vegaEmbed));\n",
       "    }\n",
       "  })({\"config\": {\"view\": {\"continuousWidth\": 400, \"continuousHeight\": 300, \"strokeWidth\": 0}, \"axis\": {\"domain\": false}, \"title\": {\"anchor\": \"start\", \"fontSize\": 20, \"offset\": 5}}, \"layer\": [{\"mark\": {\"type\": \"bar\", \"clip\": true, \"color\": \"#612b8a\", \"cornerRadiusBottomRight\": 8, \"cornerRadiusTopRight\": 8}, \"encoding\": {\"color\": {\"type\": \"quantitative\", \"field\": \"data\", \"legend\": null, \"scale\": {\"domain\": [0.005, 0.04], \"scheme\": \"inferno\"}}, \"x\": {\"type\": \"quantitative\", \"axis\": {\"format\": \".1%\", \"labelFlush\": false, \"labelFontSize\": 15, \"tickCount\": 5, \"tickSize\": 0, \"title\": null}, \"field\": \"data\"}, \"y\": {\"type\": \"nominal\", \"axis\": {\"labelFontSize\": 15, \"title\": null}, \"field\": \"labels\", \"sort\": \"-x\"}}}, {\"mark\": {\"type\": \"text\", \"align\": \"left\", \"baseline\": \"middle\", \"dx\": 10, \"dy\": 0, \"fontSize\": 15}, \"encoding\": {\"text\": {\"type\": \"quantitative\", \"field\": \"data\", \"format\": \".1%\"}, \"x\": {\"type\": \"quantitative\", \"field\": \"data\"}, \"y\": {\"type\": \"nominal\", \"field\": \"labels\", \"sort\": \"-x\"}}}], \"data\": {\"name\": \"data-7dcb09be5d765b7f27edd4d7ef209e2e\"}, \"height\": 500, \"title\": {\"text\": \"Representation by Role\", \"subtitle\": \"% Black, Respondents can select multiple roles\", \"subtitleColor\": \"gray\"}, \"width\": 400, \"$schema\": \"https://vega.github.io/schema/vega-lite/v4.8.1.json\", \"datasets\": {\"data-7dcb09be5d765b7f27edd4d7ef209e2e\": [{\"labels\": \"Educator\", \"data\": 0.030534351145038167}, {\"labels\": \"Mobile\", \"data\": 0.028814185445142224}, {\"labels\": \"Designer\", \"data\": 0.026049973418394472}, {\"labels\": \"Front-end\", \"data\": 0.02599138571216397}, {\"labels\": \"Full-stack\", \"data\": 0.023636829080979607}, {\"labels\": \"QA / Test\", \"data\": 0.023076923076923078}, {\"labels\": \"Data engineer\", \"data\": 0.022207707380796866}, {\"labels\": \"Desktop / Enterprise apps\", \"data\": 0.021242207342415147}, {\"labels\": \"Executive\", \"data\": 0.02100840336134454}, {\"labels\": \"Back-end\", \"data\": 0.020833333333333332}, {\"labels\": \"Embedded apps / devices\", \"data\": 0.019915509957754977}, {\"labels\": \"Data / Business analyst\", \"data\": 0.01729559748427673}, {\"labels\": \"Site reliability\", \"data\": 0.017223910840932118}, {\"labels\": \"Engineering manager\", \"data\": 0.017001545595054096}, {\"labels\": \"Games / Graphics\", \"data\": 0.016817593790426907}, {\"labels\": \"System admnistrator\", \"data\": 0.016731734523145567}, {\"labels\": \"Scientist\", \"data\": 0.01559792027729636}, {\"labels\": \"Database administrator\", \"data\": 0.015274034141958671}, {\"labels\": \"Data scientist\", \"data\": 0.014820592823712949}, {\"labels\": \"Product manager\", \"data\": 0.014814814814814815}, {\"labels\": \"DevOps\", \"data\": 0.012726571538758195}, {\"labels\": \"Academic researcher\", \"data\": 0.009508716323296355}]}}, {\"mode\": \"vega-lite\"});\n",
       "</script>"
      ],
      "text/plain": [
       "alt.LayerChart(...)"
      ]
     },
     "execution_count": 15,
     "metadata": {},
     "output_type": "execute_result"
    }
   ],
   "source": [
    "points = alt.Chart().mark_bar(cornerRadiusBottomRight=8, cornerRadiusTopRight=8, clip=True, color=\"#612b8a\").encode(\n",
    "    x=alt.X(\"data\", \n",
    "            axis=alt.Axis(format=\".1%\", title=None, tickCount=5, tickSize=0, labelFlush=False, labelFontSize=15),\n",
    "    ),\n",
    "    y=alt.Y(\"labels\", \n",
    "            axis=alt.Axis(title=None, labelFontSize=15), sort=\"-x\"\n",
    "           ),\n",
    "    color=alt.Color(\"data\", \n",
    "                    scale=alt.Scale(scheme=\"inferno\", domain=[0.005, 0.04]),\n",
    "                    legend=None)\n",
    ")\n",
    "\n",
    "text = alt.Chart().mark_text(\n",
    "    align='left',\n",
    "    baseline='middle',\n",
    "    dx=10,\n",
    "    dy=0,\n",
    "    fontSize=15\n",
    ").encode(\n",
    "    text=alt.Text(\"data\", format=\".1%\"),\n",
    "    x=\"data\",\n",
    "    y=alt.Y(\"labels\", sort=\"-x\"),\n",
    ")\n",
    "\n",
    "chart = alt.layer(points, text, data=representation[\"DevType\"]).properties(\n",
    "    width=400,\n",
    "    height=500,\n",
    "    title={\n",
    "        \"text\": \"Representation by Role\", \n",
    "        \"subtitle\": \"% Black, Respondents can select multiple roles\",\n",
    "        \"subtitleColor\": \"gray\"\n",
    "    }\n",
    ").configure_view(\n",
    "    strokeWidth=0\n",
    ").configure_title(\n",
    "    anchor='start',\n",
    "    offset=5,\n",
    "    fontSize=20\n",
    ").configure_axis(\n",
    "    domain=False\n",
    ")\n",
    "\n",
    "chart.save(\"../images/representation_role.png\", method=\"selenium\", webdriver=\"chrome\", scale_factor=3.0)\n",
    "\n",
    "chart"
   ]
  },
  {
   "cell_type": "code",
   "execution_count": null,
   "metadata": {},
   "outputs": [],
   "source": []
  }
 ],
 "metadata": {
  "kernelspec": {
   "display_name": "Python 3",
   "language": "python",
   "name": "python3"
  },
  "language_info": {
   "codemirror_mode": {
    "name": "ipython",
    "version": 3
   },
   "file_extension": ".py",
   "mimetype": "text/x-python",
   "name": "python",
   "nbconvert_exporter": "python",
   "pygments_lexer": "ipython3",
   "version": "3.7.7"
  }
 },
 "nbformat": 4,
 "nbformat_minor": 4
}
