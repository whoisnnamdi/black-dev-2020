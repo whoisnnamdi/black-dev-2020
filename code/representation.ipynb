{
 "cells": [
  {
   "cell_type": "markdown",
   "metadata": {},
   "source": [
    "## TODOs"
   ]
  },
  {
   "cell_type": "code",
   "execution_count": 17,
   "metadata": {
    "tags": []
   },
   "outputs": [
    {
     "name": "stdout",
     "output_type": "stream",
     "text": [
      "The rpy2.ipython extension is already loaded. To reload it, use:\n",
      "  %reload_ext rpy2.ipython\n",
      "The autoreload extension is already loaded. To reload it, use:\n",
      "  %reload_ext autoreload\n"
     ]
    }
   ],
   "source": [
    "import analyze\n",
    "import prep\n",
    "import pandas as pd\n",
    "import numpy as np\n",
    "import statsmodels.api as sm\n",
    "import matplotlib.pyplot as plt\n",
    "from prep import text_clean\n",
    "import altair as alt\n",
    "from altair_saver import save\n",
    "%load_ext rpy2.ipython\n",
    "\n",
    "%load_ext autoreload\n",
    "%autoreload 2"
   ]
  },
  {
   "cell_type": "code",
   "execution_count": 2,
   "metadata": {
    "tags": []
   },
   "outputs": [
    {
     "name": "stderr",
     "output_type": "stream",
     "text": [
      "/anaconda3/lib/python3.7/site-packages/pandas/core/indexing.py:671: SettingWithCopyWarning: \n",
      "A value is trying to be set on a copy of a slice from a DataFrame\n",
      "\n",
      "See the caveats in the documentation: https://pandas.pydata.org/pandas-docs/stable/user_guide/indexing.html#returning-a-view-versus-a-copy\n",
      "  self._setitem_with_indexer(indexer, value)\n"
     ]
    },
    {
     "name": "stdout",
     "output_type": "stream",
     "text": [
      "Removing 0 respondents with missing Wage\n",
      "6284 developers left in the sample after cleaning\n",
      "151 or 2.4% black developers in the sample with multiracial replacement\n",
      "Removing 0 respondents with missing Wage\n",
      "12502 developers left in the sample after cleaning\n",
      "291 or 2.3% black developers in the sample with multiracial replacement\n"
     ]
    }
   ],
   "source": [
    "DATA_PATH = \"../data/2020/survey_results_public.csv\"\n",
    "data_raw = pd.read_csv(DATA_PATH)\n",
    "outcome = \"Wage\"\n",
    "data_2020, keep, groups, categorical, numeric, base = prep.prep(data_raw, outcome, 2020)\n",
    "\n",
    "DATA_PATH = \"../data/2019/survey_results_public.csv\"\n",
    "data_raw = pd.read_csv(DATA_PATH)\n",
    "data_2019, keep, groups, categorical, numeric, base = prep.prep(data_raw, outcome, 2019)"
   ]
  },
  {
   "cell_type": "code",
   "execution_count": 246,
   "metadata": {},
   "outputs": [],
   "source": [
    "data = pd.concat([data_2020, data_2019], axis=0)"
   ]
  },
  {
   "cell_type": "code",
   "execution_count": 247,
   "metadata": {},
   "outputs": [
    {
     "name": "stdout",
     "output_type": "stream",
     "text": [
      "Design matrix complete with 184 variables/columns\n"
     ]
    }
   ],
   "source": [
    "X, Y = prep.design_matrix(data, categorical, numeric, base, outcome)"
   ]
  },
  {
   "cell_type": "code",
   "execution_count": 248,
   "metadata": {},
   "outputs": [],
   "source": [
    "data[\"Ethnicity_Black_or_of_African_descent\"] = data[\"Ethnicity\"] == \"Black or of African descent\""
   ]
  },
  {
   "cell_type": "code",
   "execution_count": 249,
   "metadata": {},
   "outputs": [],
   "source": [
    "breakdown = [\"DevType\", \"OrgSize\", \"Gender\"]"
   ]
  },
  {
   "cell_type": "code",
   "execution_count": 250,
   "metadata": {},
   "outputs": [],
   "source": [
    "for column in breakdown:\n",
    "    for col in sorted(set([i for row in data[column].str.split(\";\") for i in row])):            \n",
    "                # Create control columns\n",
    "                data[column+\"_\"+text_clean(col)] = data[column].str.split(\";\").map(lambda x: col in x)\n",
    "\n",
    "    data = data.drop([column], axis=1)"
   ]
  },
  {
   "cell_type": "code",
   "execution_count": 251,
   "metadata": {},
   "outputs": [],
   "source": [
    "representation = {}\n",
    "\n",
    "for column in breakdown:\n",
    "    types = []\n",
    "    \n",
    "    for col in [col for col in data.columns if column in col]:\n",
    "        types.append(data.loc[data[col] == 1][\"Ethnicity_Black_or_of_African_descent\"].mean())\n",
    "    \n",
    "    representation[column] = pd.Series(types, index=[col[len(column)+1:] for col in data.columns if column in col]\n",
    "                                      ).sort_values(ascending=False).drop(\"No_answer\").reset_index()\n",
    "    \n",
    "    representation[column] = representation[column].rename(columns={\"index\": \"labels\", 0: \"data\"})"
   ]
  },
  {
   "cell_type": "code",
   "execution_count": 252,
   "metadata": {},
   "outputs": [],
   "source": [
    "representation[\"DevType\"] = representation[\"DevType\"].loc[(representation[\"DevType\"][\"labels\"] != \"Marketing_or_sales_professional\") & \\\n",
    "                                                          (representation[\"DevType\"][\"labels\"] != \"Student\")]\n",
    "\n",
    "representation[\"DevType\"][\"labels\"] = [\"Educator\", \n",
    "                                       \"Mobile\",\n",
    "                                       \"Designer\",\n",
    "                                       \"Front-end\",\n",
    "                                       \"Full-stack\",\n",
    "                                       \"QA / Test\",\n",
    "                                       \"Data engineer\",\n",
    "                                       \"Desktop / Enterprise apps\",\n",
    "                                       \"Executive\",\n",
    "                                       \"Back-end\",\n",
    "                                       \"Embedded apps / devices\",\n",
    "                                       \"Data / Business analyst\",\n",
    "                                       \"Site reliability\",\n",
    "                                       \"Engineering manager\",\n",
    "                                       \"Games / Graphics\",\n",
    "                                       \"System admnistrator\",\n",
    "                                       \"Scientist\",\n",
    "                                       \"Database administrator\",\n",
    "                                       \"Data scientist\",\n",
    "                                       \"Product manager\",\n",
    "                                       \"DevOps\",\n",
    "                                       \"Academic researcher\"]\n",
    "\n",
    "representation[\"DevType\"][\"average\"] = 0.025"
   ]
  },
  {
   "cell_type": "code",
   "execution_count": 267,
   "metadata": {},
   "outputs": [],
   "source": [
    "representation[\"Gender\"][\"labels\"] = [\"Women\", \"Non-binary\", \"Men\"]"
   ]
  },
  {
   "cell_type": "code",
   "execution_count": 263,
   "metadata": {},
   "outputs": [
    {
     "data": {
      "text/html": [
       "\n",
       "<div id=\"altair-viz-66c8484b8221471e9591260ffd0ecbce\"></div>\n",
       "<script type=\"text/javascript\">\n",
       "  (function(spec, embedOpt){\n",
       "    let outputDiv = document.currentScript.previousElementSibling;\n",
       "    if (outputDiv.id !== \"altair-viz-66c8484b8221471e9591260ffd0ecbce\") {\n",
       "      outputDiv = document.getElementById(\"altair-viz-66c8484b8221471e9591260ffd0ecbce\");\n",
       "    }\n",
       "    const paths = {\n",
       "      \"vega\": \"https://cdn.jsdelivr.net/npm//vega@5?noext\",\n",
       "      \"vega-lib\": \"https://cdn.jsdelivr.net/npm//vega-lib?noext\",\n",
       "      \"vega-lite\": \"https://cdn.jsdelivr.net/npm//vega-lite@4.8.1?noext\",\n",
       "      \"vega-embed\": \"https://cdn.jsdelivr.net/npm//vega-embed@6?noext\",\n",
       "    };\n",
       "\n",
       "    function loadScript(lib) {\n",
       "      return new Promise(function(resolve, reject) {\n",
       "        var s = document.createElement('script');\n",
       "        s.src = paths[lib];\n",
       "        s.async = true;\n",
       "        s.onload = () => resolve(paths[lib]);\n",
       "        s.onerror = () => reject(`Error loading script: ${paths[lib]}`);\n",
       "        document.getElementsByTagName(\"head\")[0].appendChild(s);\n",
       "      });\n",
       "    }\n",
       "\n",
       "    function showError(err) {\n",
       "      outputDiv.innerHTML = `<div class=\"error\" style=\"color:red;\">${err}</div>`;\n",
       "      throw err;\n",
       "    }\n",
       "\n",
       "    function displayChart(vegaEmbed) {\n",
       "      vegaEmbed(outputDiv, spec, embedOpt)\n",
       "        .catch(err => showError(`Javascript Error: ${err.message}<br>This usually means there's a typo in your chart specification. See the javascript console for the full traceback.`));\n",
       "    }\n",
       "\n",
       "    if(typeof define === \"function\" && define.amd) {\n",
       "      requirejs.config({paths});\n",
       "      require([\"vega-embed\"], displayChart, err => showError(`Error loading script: ${err.message}`));\n",
       "    } else if (typeof vegaEmbed === \"function\") {\n",
       "      displayChart(vegaEmbed);\n",
       "    } else {\n",
       "      loadScript(\"vega\")\n",
       "        .then(() => loadScript(\"vega-lite\"))\n",
       "        .then(() => loadScript(\"vega-embed\"))\n",
       "        .catch(showError)\n",
       "        .then(() => displayChart(vegaEmbed));\n",
       "    }\n",
       "  })({\"config\": {\"view\": {\"continuousWidth\": 400, \"continuousHeight\": 300, \"strokeWidth\": 0}, \"axis\": {\"domain\": false}, \"title\": {\"anchor\": \"start\", \"fontSize\": 20, \"offset\": 5}}, \"layer\": [{\"mark\": {\"type\": \"bar\", \"clip\": true, \"color\": \"#612b8a\", \"cornerRadiusBottomRight\": 8, \"cornerRadiusTopRight\": 8}, \"encoding\": {\"color\": {\"type\": \"quantitative\", \"field\": \"data\", \"legend\": null, \"scale\": {\"domain\": [0.005, 0.04], \"scheme\": \"inferno\"}}, \"x\": {\"type\": \"quantitative\", \"axis\": {\"format\": \".1%\", \"labelFlush\": false, \"labelFontSize\": 15, \"tickCount\": 5, \"tickSize\": 0, \"title\": null}, \"field\": \"data\"}, \"y\": {\"type\": \"nominal\", \"axis\": {\"labelFontSize\": 15, \"title\": null}, \"field\": \"labels\", \"sort\": \"-x\"}}}, {\"mark\": {\"type\": \"text\", \"align\": \"left\", \"baseline\": \"middle\", \"dx\": 10, \"dy\": 0, \"fontSize\": 15}, \"encoding\": {\"text\": {\"type\": \"quantitative\", \"field\": \"data\", \"format\": \".1%\"}, \"x\": {\"type\": \"quantitative\", \"field\": \"data\"}, \"y\": {\"type\": \"nominal\", \"field\": \"labels\", \"sort\": \"-x\"}}}], \"data\": {\"name\": \"data-3ce40726ba39f29d908f6e2eb7482c85\"}, \"height\": 500, \"title\": {\"text\": \"Representation by Role\", \"subtitle\": \"% Black, Respondents can select multiple roles\", \"subtitleColor\": \"gray\"}, \"width\": 400, \"$schema\": \"https://vega.github.io/schema/vega-lite/v4.8.1.json\", \"datasets\": {\"data-3ce40726ba39f29d908f6e2eb7482c85\": [{\"labels\": \"Educator\", \"data\": 0.030534351145038167, \"average\": 0.025}, {\"labels\": \"Mobile\", \"data\": 0.028814185445142224, \"average\": 0.025}, {\"labels\": \"Designer\", \"data\": 0.026049973418394472, \"average\": 0.025}, {\"labels\": \"Front-end\", \"data\": 0.02599138571216397, \"average\": 0.025}, {\"labels\": \"Full-stack\", \"data\": 0.023636829080979607, \"average\": 0.025}, {\"labels\": \"QA / Test\", \"data\": 0.023076923076923078, \"average\": 0.025}, {\"labels\": \"Data engineer\", \"data\": 0.022207707380796866, \"average\": 0.025}, {\"labels\": \"Desktop / Enterprise apps\", \"data\": 0.021242207342415147, \"average\": 0.025}, {\"labels\": \"Executive\", \"data\": 0.02100840336134454, \"average\": 0.025}, {\"labels\": \"Back-end\", \"data\": 0.020833333333333332, \"average\": 0.025}, {\"labels\": \"Embedded apps / devices\", \"data\": 0.019915509957754977, \"average\": 0.025}, {\"labels\": \"Data / Business analyst\", \"data\": 0.01729559748427673, \"average\": 0.025}, {\"labels\": \"Site reliability\", \"data\": 0.017223910840932118, \"average\": 0.025}, {\"labels\": \"Engineering manager\", \"data\": 0.017001545595054096, \"average\": 0.025}, {\"labels\": \"Games / Graphics\", \"data\": 0.016817593790426907, \"average\": 0.025}, {\"labels\": \"System admnistrator\", \"data\": 0.016731734523145567, \"average\": 0.025}, {\"labels\": \"Scientist\", \"data\": 0.01559792027729636, \"average\": 0.025}, {\"labels\": \"Database administrator\", \"data\": 0.015274034141958671, \"average\": 0.025}, {\"labels\": \"Data scientist\", \"data\": 0.014820592823712949, \"average\": 0.025}, {\"labels\": \"Product manager\", \"data\": 0.014814814814814815, \"average\": 0.025}, {\"labels\": \"DevOps\", \"data\": 0.012726571538758195, \"average\": 0.025}, {\"labels\": \"Academic researcher\", \"data\": 0.009508716323296355, \"average\": 0.025}]}}, {\"mode\": \"vega-lite\"});\n",
       "</script>"
      ],
      "text/plain": [
       "alt.LayerChart(...)"
      ]
     },
     "execution_count": 263,
     "metadata": {},
     "output_type": "execute_result"
    }
   ],
   "source": [
    "points = alt.Chart().mark_bar(cornerRadiusBottomRight=8, cornerRadiusTopRight=8, clip=True, color=\"#612b8a\").encode(\n",
    "    x=alt.X(\"data\", \n",
    "            axis=alt.Axis(format=\".1%\", title=None, tickCount=5, tickSize=0, labelFlush=False, labelFontSize=15),\n",
    "    ),\n",
    "    y=alt.Y(\"labels\", \n",
    "            axis=alt.Axis(title=None, labelFontSize=15), sort=\"-x\"\n",
    "           ),\n",
    "    color=alt.Color(\"data\", \n",
    "                    scale=alt.Scale(scheme=\"inferno\", domain=[0.005, 0.04]),\n",
    "                    legend=None)\n",
    ")\n",
    "\n",
    "text = alt.Chart().mark_text(\n",
    "    align='left',\n",
    "    baseline='middle',\n",
    "    dx=10,\n",
    "    dy=0,\n",
    "    fontSize=15\n",
    ").encode(\n",
    "    text=alt.Text(\"data\", format=\".1%\"),\n",
    "    x=\"data\",\n",
    "    y=alt.Y(\"labels\", sort=\"-x\"),\n",
    ")\n",
    "\n",
    "chart = alt.layer(points, text, data=representation[\"DevType\"]).properties(\n",
    "    width=400,\n",
    "    height=500,\n",
    "    title={\n",
    "        \"text\": \"Representation by Role\", \n",
    "        \"subtitle\": \"% Black, Respondents can select multiple roles\",\n",
    "        \"subtitleColor\": \"gray\"\n",
    "    }\n",
    ").configure_view(\n",
    "    strokeWidth=0\n",
    ").configure_title(\n",
    "    anchor='start',\n",
    "    offset=5,\n",
    "    fontSize=20\n",
    ").configure_axis(\n",
    "    domain=False\n",
    ")\n",
    "\n",
    "chart.save(\"representation_role.png\", method=\"selenium\", webdriver=\"chrome\", scale_factor=3.0)\n",
    "\n",
    "chart"
   ]
  },
  {
   "cell_type": "code",
   "execution_count": 262,
   "metadata": {},
   "outputs": [
    {
     "data": {
      "text/html": [
       "\n",
       "<div id=\"altair-viz-cf3741c491124617ae90cb3328a86a7b\"></div>\n",
       "<script type=\"text/javascript\">\n",
       "  (function(spec, embedOpt){\n",
       "    let outputDiv = document.currentScript.previousElementSibling;\n",
       "    if (outputDiv.id !== \"altair-viz-cf3741c491124617ae90cb3328a86a7b\") {\n",
       "      outputDiv = document.getElementById(\"altair-viz-cf3741c491124617ae90cb3328a86a7b\");\n",
       "    }\n",
       "    const paths = {\n",
       "      \"vega\": \"https://cdn.jsdelivr.net/npm//vega@5?noext\",\n",
       "      \"vega-lib\": \"https://cdn.jsdelivr.net/npm//vega-lib?noext\",\n",
       "      \"vega-lite\": \"https://cdn.jsdelivr.net/npm//vega-lite@4.8.1?noext\",\n",
       "      \"vega-embed\": \"https://cdn.jsdelivr.net/npm//vega-embed@6?noext\",\n",
       "    };\n",
       "\n",
       "    function loadScript(lib) {\n",
       "      return new Promise(function(resolve, reject) {\n",
       "        var s = document.createElement('script');\n",
       "        s.src = paths[lib];\n",
       "        s.async = true;\n",
       "        s.onload = () => resolve(paths[lib]);\n",
       "        s.onerror = () => reject(`Error loading script: ${paths[lib]}`);\n",
       "        document.getElementsByTagName(\"head\")[0].appendChild(s);\n",
       "      });\n",
       "    }\n",
       "\n",
       "    function showError(err) {\n",
       "      outputDiv.innerHTML = `<div class=\"error\" style=\"color:red;\">${err}</div>`;\n",
       "      throw err;\n",
       "    }\n",
       "\n",
       "    function displayChart(vegaEmbed) {\n",
       "      vegaEmbed(outputDiv, spec, embedOpt)\n",
       "        .catch(err => showError(`Javascript Error: ${err.message}<br>This usually means there's a typo in your chart specification. See the javascript console for the full traceback.`));\n",
       "    }\n",
       "\n",
       "    if(typeof define === \"function\" && define.amd) {\n",
       "      requirejs.config({paths});\n",
       "      require([\"vega-embed\"], displayChart, err => showError(`Error loading script: ${err.message}`));\n",
       "    } else if (typeof vegaEmbed === \"function\") {\n",
       "      displayChart(vegaEmbed);\n",
       "    } else {\n",
       "      loadScript(\"vega\")\n",
       "        .then(() => loadScript(\"vega-lite\"))\n",
       "        .then(() => loadScript(\"vega-embed\"))\n",
       "        .catch(showError)\n",
       "        .then(() => displayChart(vegaEmbed));\n",
       "    }\n",
       "  })({\"config\": {\"view\": {\"continuousWidth\": 400, \"continuousHeight\": 300, \"strokeWidth\": 0}, \"axis\": {\"domain\": false}, \"title\": {\"anchor\": \"start\", \"fontSize\": 20, \"offset\": 5}}, \"layer\": [{\"mark\": {\"type\": \"bar\", \"clip\": true, \"cornerRadiusTopLeft\": 8, \"cornerRadiusTopRight\": 8, \"size\": 55}, \"encoding\": {\"color\": {\"type\": \"quantitative\", \"aggregate\": \"mean\", \"field\": \"Ethnicity_Black_or_of_African_descent\", \"legend\": null, \"scale\": {\"domain\": [0, 0.05], \"scheme\": \"inferno\"}}, \"x\": {\"type\": \"quantitative\", \"axis\": {\"labelFontSize\": 15, \"title\": null}, \"bin\": {\"extent\": [0, 40], \"step\": 5}, \"field\": \"YearsCodePro\", \"scale\": {\"domain\": [0, 40]}}, \"y\": {\"type\": \"quantitative\", \"aggregate\": \"mean\", \"axis\": {\"format\": \".1%\", \"labelFlush\": false, \"labelFontSize\": 15, \"tickCount\": 4, \"tickSize\": 0, \"title\": null}, \"field\": \"Ethnicity_Black_or_of_African_descent\", \"scale\": {\"domain\": [0, 0.04]}}}}, {\"mark\": {\"type\": \"text\", \"align\": \"left\", \"baseline\": \"middle\", \"dx\": -15, \"dy\": -15, \"fontSize\": 15}, \"encoding\": {\"text\": {\"type\": \"quantitative\", \"aggregate\": \"mean\", \"field\": \"Ethnicity_Black_or_of_African_descent\", \"format\": \".1%\"}, \"x\": {\"type\": \"quantitative\", \"bin\": {\"extent\": [0, 40], \"step\": 5}, \"field\": \"YearsCodePro\"}, \"y\": {\"type\": \"quantitative\", \"aggregate\": \"mean\", \"field\": \"Ethnicity_Black_or_of_African_descent\"}}}], \"data\": {\"name\": \"data-abad2f6e2fcbb36b0d5b593bf4c9c03a\"}, \"height\": 300, \"title\": {\"text\": \"Representation by Years of Experience\", \"subtitle\": \"% Black, 5-Year Bins\", \"subtitleColor\": \"gray\"}, \"width\": 500, \"$schema\": \"https://vega.github.io/schema/vega-lite/v4.8.1.json\", \"datasets\": {\"data-abad2f6e2fcbb36b0d5b593bf4c9c03a\": [{\"YearsCodePro\": 0.5, \"Ethnicity_Black_or_of_African_descent\": 0.043596730245231606}, {\"YearsCodePro\": 1.0, \"Ethnicity_Black_or_of_African_descent\": 0.03881278538812785}, {\"YearsCodePro\": 2.0, \"Ethnicity_Black_or_of_African_descent\": 0.039628482972136225}, {\"YearsCodePro\": 3.0, \"Ethnicity_Black_or_of_African_descent\": 0.03225806451612903}, {\"YearsCodePro\": 4.0, \"Ethnicity_Black_or_of_African_descent\": 0.02160702228224173}, {\"YearsCodePro\": 5.0, \"Ethnicity_Black_or_of_African_descent\": 0.01997422680412371}, {\"YearsCodePro\": 6.0, \"Ethnicity_Black_or_of_African_descent\": 0.014532243415077202}, {\"YearsCodePro\": 7.0, \"Ethnicity_Black_or_of_African_descent\": 0.016684045881126174}, {\"YearsCodePro\": 8.0, \"Ethnicity_Black_or_of_African_descent\": 0.01762114537444934}, {\"YearsCodePro\": 9.0, \"Ethnicity_Black_or_of_African_descent\": 0.026694045174537988}, {\"YearsCodePro\": 10.0, \"Ethnicity_Black_or_of_African_descent\": 0.025280898876404494}, {\"YearsCodePro\": 11.0, \"Ethnicity_Black_or_of_African_descent\": 0.018518518518518517}, {\"YearsCodePro\": 12.0, \"Ethnicity_Black_or_of_African_descent\": 0.022508038585209004}, {\"YearsCodePro\": 13.0, \"Ethnicity_Black_or_of_African_descent\": 0.01873536299765808}, {\"YearsCodePro\": 14.0, \"Ethnicity_Black_or_of_African_descent\": 0.0196078431372549}, {\"YearsCodePro\": 15.0, \"Ethnicity_Black_or_of_African_descent\": 0.0137221269296741}, {\"YearsCodePro\": 16.0, \"Ethnicity_Black_or_of_African_descent\": 0.030405405405405407}, {\"YearsCodePro\": 17.0, \"Ethnicity_Black_or_of_African_descent\": 0.021164021164021163}, {\"YearsCodePro\": 18.0, \"Ethnicity_Black_or_of_African_descent\": 0.015723270440251572}, {\"YearsCodePro\": 19.0, \"Ethnicity_Black_or_of_African_descent\": 0.012448132780082987}, {\"YearsCodePro\": 20.0, \"Ethnicity_Black_or_of_African_descent\": 0.017964071856287425}, {\"YearsCodePro\": 21.0, \"Ethnicity_Black_or_of_African_descent\": 0.023923444976076555}, {\"YearsCodePro\": 22.0, \"Ethnicity_Black_or_of_African_descent\": 0.008130081300813009}, {\"YearsCodePro\": 23.0, \"Ethnicity_Black_or_of_African_descent\": 0.02197802197802198}, {\"YearsCodePro\": 24.0, \"Ethnicity_Black_or_of_African_descent\": 0.0}, {\"YearsCodePro\": 25.0, \"Ethnicity_Black_or_of_African_descent\": 0.008}, {\"YearsCodePro\": 26.0, \"Ethnicity_Black_or_of_African_descent\": 0.0}, {\"YearsCodePro\": 27.0, \"Ethnicity_Black_or_of_African_descent\": 0.011363636363636364}, {\"YearsCodePro\": 28.0, \"Ethnicity_Black_or_of_African_descent\": 0.02531645569620253}, {\"YearsCodePro\": 29.0, \"Ethnicity_Black_or_of_African_descent\": 0.0}, {\"YearsCodePro\": 30.0, \"Ethnicity_Black_or_of_African_descent\": 0.017543859649122806}, {\"YearsCodePro\": 31.0, \"Ethnicity_Black_or_of_African_descent\": 0.0}, {\"YearsCodePro\": 32.0, \"Ethnicity_Black_or_of_African_descent\": 0.02857142857142857}, {\"YearsCodePro\": 33.0, \"Ethnicity_Black_or_of_African_descent\": 0.015873015873015872}, {\"YearsCodePro\": 34.0, \"Ethnicity_Black_or_of_African_descent\": 0.0}, {\"YearsCodePro\": 35.0, \"Ethnicity_Black_or_of_African_descent\": 0.02127659574468085}, {\"YearsCodePro\": 36.0, \"Ethnicity_Black_or_of_African_descent\": 0.0}, {\"YearsCodePro\": 37.0, \"Ethnicity_Black_or_of_African_descent\": 0.0}, {\"YearsCodePro\": 38.0, \"Ethnicity_Black_or_of_African_descent\": 0.0196078431372549}, {\"YearsCodePro\": 39.0, \"Ethnicity_Black_or_of_African_descent\": 0.0}, {\"YearsCodePro\": 40.0, \"Ethnicity_Black_or_of_African_descent\": 0.0}, {\"YearsCodePro\": 41.0, \"Ethnicity_Black_or_of_African_descent\": 0.06666666666666667}, {\"YearsCodePro\": 42.0, \"Ethnicity_Black_or_of_African_descent\": 0.0}, {\"YearsCodePro\": 43.0, \"Ethnicity_Black_or_of_African_descent\": 0.0}, {\"YearsCodePro\": 44.0, \"Ethnicity_Black_or_of_African_descent\": 0.0}, {\"YearsCodePro\": 45.0, \"Ethnicity_Black_or_of_African_descent\": 0.0}, {\"YearsCodePro\": 46.0, \"Ethnicity_Black_or_of_African_descent\": 0.0}, {\"YearsCodePro\": 47.0, \"Ethnicity_Black_or_of_African_descent\": 0.0}, {\"YearsCodePro\": 48.0, \"Ethnicity_Black_or_of_African_descent\": 0.0}, {\"YearsCodePro\": 49.0, \"Ethnicity_Black_or_of_African_descent\": 0.0}, {\"YearsCodePro\": 50.0, \"Ethnicity_Black_or_of_African_descent\": 0.0}, {\"YearsCodePro\": 51.0, \"Ethnicity_Black_or_of_African_descent\": 0.0}]}}, {\"mode\": \"vega-lite\"});\n",
       "</script>"
      ],
      "text/plain": [
       "alt.LayerChart(...)"
      ]
     },
     "execution_count": 262,
     "metadata": {},
     "output_type": "execute_result"
    }
   ],
   "source": [
    "points = alt.Chart().mark_bar(size=55, cornerRadiusTopLeft=8, cornerRadiusTopRight=8, clip=True).encode(\n",
    "    x=alt.X(\"YearsCodePro\",\n",
    "            axis=alt.Axis(title=None, labelFontSize=15),\n",
    "            scale=alt.Scale(\n",
    "                domain=(0, 40)\n",
    "            ),\n",
    "           bin=alt.Bin(extent=[0, 40], step=5)),\n",
    "    y=alt.Y(\"mean(Ethnicity_Black_or_of_African_descent)\",\n",
    "            axis=alt.Axis(format=\".1%\", title=None, tickCount=4, tickSize=0, labelFlush=False, labelFontSize=15),\n",
    "            scale=alt.Scale(\n",
    "                domain=(0, 0.04)\n",
    "            )\n",
    "           ),\n",
    "    color=alt.Color(\"mean(Ethnicity_Black_or_of_African_descent)\", \n",
    "                    scale=alt.Scale(scheme=\"inferno\", domain=[0, 0.05]),\n",
    "                    legend=None)\n",
    ")\n",
    "\n",
    "text = alt.Chart().mark_text(\n",
    "    align='left',\n",
    "    baseline='middle',\n",
    "    dx=-15,\n",
    "    dy=-15,\n",
    "    fontSize=15\n",
    ").encode(\n",
    "    text=alt.Text(\"mean(Ethnicity_Black_or_of_African_descent)\", format=\".1%\"),\n",
    "    x=alt.X(\"YearsCodePro\",\n",
    "           bin=alt.Bin(extent=[0, 40], step=5)),\n",
    "    y=alt.Y(\"mean(Ethnicity_Black_or_of_African_descent)\"),\n",
    ")\n",
    "\n",
    "chart = alt.layer(points, text, data=data.groupby(\"YearsCodePro\").mean()[\"Ethnicity_Black_or_of_African_descent\"].reset_index()).properties(\n",
    "    width=500,\n",
    "    height=300,\n",
    "    title={\n",
    "        \"text\": \"Representation by Years of Experience\", \n",
    "        \"subtitle\": \"% Black, 5-Year Bins\",\n",
    "        \"subtitleColor\": \"gray\"\n",
    "    }\n",
    ").configure_view(\n",
    "    strokeWidth=0\n",
    ").configure_title(\n",
    "    anchor='start',\n",
    "    offset=5,\n",
    "    fontSize=20\n",
    ").configure_axis(\n",
    "    domain=False\n",
    ")\n",
    "\n",
    "chart.save(\"representation_experience.png\", method=\"selenium\", webdriver=\"chrome\", scale_factor=3.0)\n",
    "\n",
    "chart"
   ]
  },
  {
   "cell_type": "code",
   "execution_count": 274,
   "metadata": {},
   "outputs": [
    {
     "data": {
      "text/html": [
       "\n",
       "<div id=\"altair-viz-cb2f30ed18f74456b716ae307eb30d74\"></div>\n",
       "<script type=\"text/javascript\">\n",
       "  (function(spec, embedOpt){\n",
       "    let outputDiv = document.currentScript.previousElementSibling;\n",
       "    if (outputDiv.id !== \"altair-viz-cb2f30ed18f74456b716ae307eb30d74\") {\n",
       "      outputDiv = document.getElementById(\"altair-viz-cb2f30ed18f74456b716ae307eb30d74\");\n",
       "    }\n",
       "    const paths = {\n",
       "      \"vega\": \"https://cdn.jsdelivr.net/npm//vega@5?noext\",\n",
       "      \"vega-lib\": \"https://cdn.jsdelivr.net/npm//vega-lib?noext\",\n",
       "      \"vega-lite\": \"https://cdn.jsdelivr.net/npm//vega-lite@4.8.1?noext\",\n",
       "      \"vega-embed\": \"https://cdn.jsdelivr.net/npm//vega-embed@6?noext\",\n",
       "    };\n",
       "\n",
       "    function loadScript(lib) {\n",
       "      return new Promise(function(resolve, reject) {\n",
       "        var s = document.createElement('script');\n",
       "        s.src = paths[lib];\n",
       "        s.async = true;\n",
       "        s.onload = () => resolve(paths[lib]);\n",
       "        s.onerror = () => reject(`Error loading script: ${paths[lib]}`);\n",
       "        document.getElementsByTagName(\"head\")[0].appendChild(s);\n",
       "      });\n",
       "    }\n",
       "\n",
       "    function showError(err) {\n",
       "      outputDiv.innerHTML = `<div class=\"error\" style=\"color:red;\">${err}</div>`;\n",
       "      throw err;\n",
       "    }\n",
       "\n",
       "    function displayChart(vegaEmbed) {\n",
       "      vegaEmbed(outputDiv, spec, embedOpt)\n",
       "        .catch(err => showError(`Javascript Error: ${err.message}<br>This usually means there's a typo in your chart specification. See the javascript console for the full traceback.`));\n",
       "    }\n",
       "\n",
       "    if(typeof define === \"function\" && define.amd) {\n",
       "      requirejs.config({paths});\n",
       "      require([\"vega-embed\"], displayChart, err => showError(`Error loading script: ${err.message}`));\n",
       "    } else if (typeof vegaEmbed === \"function\") {\n",
       "      displayChart(vegaEmbed);\n",
       "    } else {\n",
       "      loadScript(\"vega\")\n",
       "        .then(() => loadScript(\"vega-lite\"))\n",
       "        .then(() => loadScript(\"vega-embed\"))\n",
       "        .catch(showError)\n",
       "        .then(() => displayChart(vegaEmbed));\n",
       "    }\n",
       "  })({\"config\": {\"view\": {\"continuousWidth\": 400, \"continuousHeight\": 300, \"strokeWidth\": 0}, \"axis\": {\"domain\": false}, \"title\": {\"anchor\": \"start\", \"fontSize\": 20, \"offset\": 5}}, \"layer\": [{\"mark\": {\"type\": \"bar\", \"clip\": true, \"color\": \"#612b8a\", \"cornerRadiusBottomRight\": 8, \"cornerRadiusTopRight\": 8}, \"encoding\": {\"color\": {\"type\": \"quantitative\", \"field\": \"data\", \"legend\": null, \"scale\": {\"domain\": [0.005, 0.08], \"scheme\": \"inferno\"}}, \"x\": {\"type\": \"quantitative\", \"axis\": {\"format\": \".1%\", \"labelFlush\": false, \"labelFontSize\": 15, \"tickCount\": 5, \"tickSize\": 0, \"title\": null}, \"field\": \"data\"}, \"y\": {\"type\": \"nominal\", \"axis\": {\"labelFontSize\": 15, \"title\": null}, \"field\": \"labels\", \"sort\": \"-x\"}}}, {\"mark\": {\"type\": \"text\", \"align\": \"left\", \"baseline\": \"middle\", \"dx\": 10, \"dy\": 0, \"fontSize\": 15}, \"encoding\": {\"text\": {\"type\": \"quantitative\", \"field\": \"data\", \"format\": \".1%\"}, \"x\": {\"type\": \"quantitative\", \"field\": \"data\"}, \"y\": {\"type\": \"nominal\", \"field\": \"labels\", \"sort\": \"-x\"}}}], \"data\": {\"name\": \"data-ba5459acc69499dadc779ecc659c2a91\"}, \"height\": 500, \"title\": {\"text\": \"Representation by Gender\", \"subtitle\": \"% Black\", \"subtitleColor\": \"gray\"}, \"width\": 400, \"$schema\": \"https://vega.github.io/schema/vega-lite/v4.8.1.json\", \"datasets\": {\"data-ba5459acc69499dadc779ecc659c2a91\": [{\"labels\": \"Women\", \"data\": 0.05961754780652419}, {\"labels\": \"Non-binary\", \"data\": 0.0345821325648415}, {\"labels\": \"Men\", \"data\": 0.019438707325962822}]}}, {\"mode\": \"vega-lite\"});\n",
       "</script>"
      ],
      "text/plain": [
       "alt.LayerChart(...)"
      ]
     },
     "execution_count": 274,
     "metadata": {},
     "output_type": "execute_result"
    }
   ],
   "source": [
    "points = alt.Chart().mark_bar(cornerRadiusBottomRight=8, cornerRadiusTopRight=8, clip=True, color=\"#612b8a\").encode(\n",
    "    x=alt.X(\"data\", \n",
    "            axis=alt.Axis(format=\".1%\", title=None, tickCount=5, tickSize=0, labelFlush=False, labelFontSize=15),\n",
    "    ),\n",
    "    y=alt.Y(\"labels\", \n",
    "            axis=alt.Axis(title=None, labelFontSize=15), sort=\"-x\"\n",
    "           ),\n",
    "    color=alt.Color(\"data\", \n",
    "                scale=alt.Scale(scheme=\"inferno\", domain=[0.005, 0.08]),\n",
    "                legend=None)\n",
    ")\n",
    "\n",
    "text = alt.Chart().mark_text(\n",
    "    align='left',\n",
    "    baseline='middle',\n",
    "    dx=10,\n",
    "    dy=0,\n",
    "    fontSize=15\n",
    ").encode(\n",
    "    text=alt.Text(\"data\", format=\".1%\"),\n",
    "    x=\"data\",\n",
    "    y=alt.Y(\"labels\", sort=\"-x\"),\n",
    ")\n",
    "\n",
    "chart = alt.layer(points, text, data=representation[\"Gender\"]).properties(\n",
    "    width=400,\n",
    "    height=500,\n",
    "    title={\n",
    "        \"text\": \"Representation by Gender\", \n",
    "        \"subtitle\": \"% Black\",\n",
    "        \"subtitleColor\": \"gray\"\n",
    "    }\n",
    ").configure_view(\n",
    "    strokeWidth=0\n",
    ").configure_title(\n",
    "    anchor='start',\n",
    "    offset=5,\n",
    "    fontSize=20\n",
    ").configure_axis(\n",
    "    domain=False\n",
    ")\n",
    "\n",
    "chart.save(\"representation_gender.png\", method=\"selenium\", webdriver=\"chrome\", scale_factor=3.0)\n",
    "\n",
    "chart"
   ]
  },
  {
   "cell_type": "code",
   "execution_count": 131,
   "metadata": {},
   "outputs": [
    {
     "data": {
      "image/png": "[encoded data removed]",
      "text/plain": [
       "<Figure size 432x288 with 1 Axes>"
      ]
     },
     "metadata": {
      "needs_background": "light"
     },
     "output_type": "display_data"
    }
   ],
   "source": [
    "sns.barplot(x=representation[\"OrgSize\"]-1, y=representation[\"OrgSize\"].index)\n",
    "plt.show()"
   ]
  },
  {
   "cell_type": "code",
   "execution_count": null,
   "metadata": {},
   "outputs": [],
   "source": []
  }
 ],
 "metadata": {
  "kernelspec": {
   "display_name": "Python 3",
   "language": "python",
   "name": "python3"
  },
  "language_info": {
   "codemirror_mode": {
    "name": "ipython",
    "version": 3
   },
   "file_extension": ".py",
   "mimetype": "text/x-python",
   "name": "python",
   "nbconvert_exporter": "python",
   "pygments_lexer": "ipython3",
   "version": "3.7.7"
  }
 },
 "nbformat": 4,
 "nbformat_minor": 4
}
